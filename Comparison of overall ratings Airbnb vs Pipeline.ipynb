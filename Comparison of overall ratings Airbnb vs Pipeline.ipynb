{
 "cells": [
  {
   "cell_type": "code",
   "execution_count": 1,
   "metadata": {
    "collapsed": false
   },
   "outputs": [
    {
     "name": "stderr",
     "output_type": "stream",
     "text": [
      "c:\\python27\\lib\\site-packages\\IPython\\core\\interactiveshell.py:2885: FutureWarning: \n",
      "mpl_style had been deprecated and will be removed in a future version.\n",
      "Use `matplotlib.pyplot.style.use` instead.\n",
      "\n",
      "  exec(code_obj, self.user_global_ns, self.user_ns)\n"
     ]
    }
   ],
   "source": [
    "\n",
    "%matplotlib inline\n",
    "\n",
    "import pandas as pd\n",
    "import matplotlib.pyplot as plt\n",
    "import numpy as np\n",
    "from __future__ import division\n",
    "from pandas.tools.plotting import autocorrelation_plot\n",
    "from scipy.stats import ks_2samp\n",
    "\n",
    "pd.set_option('display.mpl_style', 'default') # Make the graphs a bit prettier\n",
    "plt.rcParams['figure.figsize'] = (15, 5)\n",
    "plt.rcParams['font.family'] = 'sans-serif'\n",
    "\n",
    "# This is necessary to show lots of columns in pandas 0.12. \n",
    "# Not necessary in pandas 0.13.\n",
    "pd.set_option('display.width', 5000) \n",
    "pd.set_option('display.max_columns', 60)"
   ]
  },
  {
   "cell_type": "code",
   "execution_count": 2,
   "metadata": {
    "collapsed": false
   },
   "outputs": [],
   "source": [
    "pipeline = pd.read_csv('C:/Python27/output_improved_AMS.csv')[['Listing ID','Sentiment score']]\n",
    "airbnb= pd.read_csv('C:/Python27/AirbnbRating.csv')[['Id','Overall']]"
   ]
  },
  {
   "cell_type": "code",
   "execution_count": 3,
   "metadata": {
    "collapsed": false
   },
   "outputs": [],
   "source": [
    "# Get the overall ratings for each listing from the pipeline and save them in a new csv file\n",
    "\n",
    "set1=pipeline.groupby('Listing ID').mean().round(2)\n",
    "set1.to_csv(path_or_buf='C:/Python27/Pipelineclean1.csv')"
   ]
  },
  {
   "cell_type": "code",
   "execution_count": 4,
   "metadata": {
    "collapsed": false
   },
   "outputs": [],
   "source": [
    "# Delete all the rows with a NaN value and save in a new csv. Both the csv will be joined using the command line\n",
    "# and based on Listing ID\n",
    "\n",
    "set2 = airbnb.dropna()\n",
    "set2.to_csv(path_or_buf='C:/Python27/Airbnbclean.csv')"
   ]
  },
  {
   "cell_type": "code",
   "execution_count": 29,
   "metadata": {
    "collapsed": false
   },
   "outputs": [
    {
     "data": {
      "text/html": [
       "<div>\n",
       "<table border=\"1\" class=\"dataframe\">\n",
       "  <thead>\n",
       "    <tr style=\"text-align: right;\">\n",
       "      <th></th>\n",
       "      <th>Overall</th>\n",
       "      <th>Listing ID</th>\n",
       "      <th>Sentimentscore</th>\n",
       "    </tr>\n",
       "  </thead>\n",
       "  <tbody>\n",
       "    <tr>\n",
       "      <th>0</th>\n",
       "      <td>5.0</td>\n",
       "      <td>1000126</td>\n",
       "      <td>4.0</td>\n",
       "    </tr>\n",
       "    <tr>\n",
       "      <th>1</th>\n",
       "      <td>5.0</td>\n",
       "      <td>1000252</td>\n",
       "      <td>4.0</td>\n",
       "    </tr>\n",
       "    <tr>\n",
       "      <th>2</th>\n",
       "      <td>5.0</td>\n",
       "      <td>1000866</td>\n",
       "      <td>4.5</td>\n",
       "    </tr>\n",
       "  </tbody>\n",
       "</table>\n",
       "</div>"
      ],
      "text/plain": [
       "   Overall  Listing ID  Sentimentscore\n",
       "0      5.0     1000126             4.0\n",
       "1      5.0     1000252             4.0\n",
       "2      5.0     1000866             4.5"
      ]
     },
     "execution_count": 29,
     "metadata": {},
     "output_type": "execute_result"
    }
   ],
   "source": [
    "# Read the csv of the merged file\n",
    "\n",
    "comparison=pd.read_csv('C:/Python27/merged_AMS.csv')\n",
    "comparison[:3]"
   ]
  },
  {
   "cell_type": "markdown",
   "metadata": {},
   "source": [
    "## Comparison of Airbnb star rating and pipeline"
   ]
  },
  {
   "cell_type": "code",
   "execution_count": 30,
   "metadata": {
    "collapsed": false
   },
   "outputs": [
    {
     "data": {
      "text/html": [
       "<div>\n",
       "<table border=\"1\" class=\"dataframe\">\n",
       "  <thead>\n",
       "    <tr style=\"text-align: right;\">\n",
       "      <th></th>\n",
       "      <th>Airbnb</th>\n",
       "      <th>Pipeline</th>\n",
       "      <th>Frequency</th>\n",
       "      <th>Percentage</th>\n",
       "    </tr>\n",
       "  </thead>\n",
       "  <tbody>\n",
       "    <tr>\n",
       "      <th>0</th>\n",
       "      <td>5.0</td>\n",
       "      <td>4.0</td>\n",
       "      <td>650</td>\n",
       "      <td>31.36</td>\n",
       "    </tr>\n",
       "    <tr>\n",
       "      <th>1</th>\n",
       "      <td>5.0</td>\n",
       "      <td>4.5</td>\n",
       "      <td>404</td>\n",
       "      <td>19.49</td>\n",
       "    </tr>\n",
       "    <tr>\n",
       "      <th>2</th>\n",
       "      <td>5.0</td>\n",
       "      <td>3.5</td>\n",
       "      <td>2</td>\n",
       "      <td>0.10</td>\n",
       "    </tr>\n",
       "    <tr>\n",
       "      <th>3</th>\n",
       "      <td>4.5</td>\n",
       "      <td>4.0</td>\n",
       "      <td>686</td>\n",
       "      <td>33.09</td>\n",
       "    </tr>\n",
       "    <tr>\n",
       "      <th>4</th>\n",
       "      <td>4.5</td>\n",
       "      <td>4.5</td>\n",
       "      <td>199</td>\n",
       "      <td>9.60</td>\n",
       "    </tr>\n",
       "    <tr>\n",
       "      <th>5</th>\n",
       "      <td>4.5</td>\n",
       "      <td>3.5</td>\n",
       "      <td>4</td>\n",
       "      <td>0.19</td>\n",
       "    </tr>\n",
       "    <tr>\n",
       "      <th>6</th>\n",
       "      <td>4.5</td>\n",
       "      <td>3.0</td>\n",
       "      <td>1</td>\n",
       "      <td>0.05</td>\n",
       "    </tr>\n",
       "    <tr>\n",
       "      <th>7</th>\n",
       "      <td>4.0</td>\n",
       "      <td>4.0</td>\n",
       "      <td>100</td>\n",
       "      <td>4.82</td>\n",
       "    </tr>\n",
       "    <tr>\n",
       "      <th>8</th>\n",
       "      <td>4.0</td>\n",
       "      <td>4.5</td>\n",
       "      <td>11</td>\n",
       "      <td>0.53</td>\n",
       "    </tr>\n",
       "    <tr>\n",
       "      <th>9</th>\n",
       "      <td>4.0</td>\n",
       "      <td>3.5</td>\n",
       "      <td>7</td>\n",
       "      <td>0.34</td>\n",
       "    </tr>\n",
       "    <tr>\n",
       "      <th>10</th>\n",
       "      <td>3.5</td>\n",
       "      <td>4.0</td>\n",
       "      <td>6</td>\n",
       "      <td>0.29</td>\n",
       "    </tr>\n",
       "    <tr>\n",
       "      <th>11</th>\n",
       "      <td>3.5</td>\n",
       "      <td>3.5</td>\n",
       "      <td>2</td>\n",
       "      <td>0.10</td>\n",
       "    </tr>\n",
       "    <tr>\n",
       "      <th>12</th>\n",
       "      <td>3.0</td>\n",
       "      <td>5.0</td>\n",
       "      <td>1</td>\n",
       "      <td>0.05</td>\n",
       "    </tr>\n",
       "  </tbody>\n",
       "</table>\n",
       "</div>"
      ],
      "text/plain": [
       "    Airbnb  Pipeline  Frequency  Percentage\n",
       "0      5.0       4.0        650       31.36\n",
       "1      5.0       4.5        404       19.49\n",
       "2      5.0       3.5          2        0.10\n",
       "3      4.5       4.0        686       33.09\n",
       "4      4.5       4.5        199        9.60\n",
       "5      4.5       3.5          4        0.19\n",
       "6      4.5       3.0          1        0.05\n",
       "7      4.0       4.0        100        4.82\n",
       "8      4.0       4.5         11        0.53\n",
       "9      4.0       3.5          7        0.34\n",
       "10     3.5       4.0          6        0.29\n",
       "11     3.5       3.5          2        0.10\n",
       "12     3.0       5.0          1        0.05"
      ]
     },
     "execution_count": 30,
     "metadata": {},
     "output_type": "execute_result"
    }
   ],
   "source": [
    "# For filling the dataframe\n",
    "i=5.0\n",
    "s0=comparison[comparison['Overall']==i]\n",
    "s00=s0['Sentimentscore'].value_counts()\n",
    "b=pd.DataFrame({'Airbnb':i, 'Pipeline':s00.index, 'V_Frequency': s00.values})\n",
    "i=4.5\n",
    "s1=comparison[comparison['Overall']==i]\n",
    "s11=s1['Sentimentscore'].value_counts()\n",
    "b1=pd.DataFrame({'Airbnb':i, 'Pipeline':s11.index, 'V_Frequency': s11.values},index=[3,4,5,6])\n",
    "i=4.0,\n",
    "s2=comparison[comparison['Overall']==i]\n",
    "s22=s2['Sentimentscore'].value_counts()\n",
    "b2=pd.DataFrame({'Airbnb':i, 'Pipeline':s22.index, 'V_Frequency': s22.values}, index=[7,8,9])\n",
    "i=3.5\n",
    "s3=comparison[comparison['Overall']==i]\n",
    "s33=s3['Sentimentscore'].value_counts()\n",
    "b3=pd.DataFrame({'Airbnb':i, 'Pipeline':s33.index, 'V_Frequency': s33.values},index=[10,11])\n",
    "i=3.0\n",
    "s4=comparison[comparison['Overall']==i]\n",
    "s44=s4['Sentimentscore'].value_counts()\n",
    "b4=pd.DataFrame({'Airbnb':i, 'Pipeline':s44.index, 'V_Frequency': s44.values},index=[12])\n",
    "stars_compared=pd.concat([b,b1,b2,b3,b4])\n",
    "stars_compared['Percentage']=((stars_compared['V_Frequency']/stars_compared['V_Frequency'].sum())*100).round(2)\n",
    "stars_compared.columns=['Airbnb','Pipeline','Frequency','Percentage']\n",
    "stars_compared"
   ]
  },
  {
   "cell_type": "markdown",
   "metadata": {},
   "source": [
    "## Visualization of most frequent star values and grouping non-frequent as \"others\""
   ]
  },
  {
   "cell_type": "code",
   "execution_count": 31,
   "metadata": {
    "collapsed": false
   },
   "outputs": [
    {
     "name": "stderr",
     "output_type": "stream",
     "text": [
      "c:\\python27\\lib\\site-packages\\ipykernel\\__main__.py:6: SettingWithCopyWarning: \n",
      "A value is trying to be set on a copy of a slice from a DataFrame\n",
      "\n",
      "See the caveats in the documentation: http://pandas.pydata.org/pandas-docs/stable/indexing.html#indexing-view-versus-copy\n"
     ]
    },
    {
     "data": {
      "text/html": [
       "<div>\n",
       "<table border=\"1\" class=\"dataframe\">\n",
       "  <thead>\n",
       "    <tr style=\"text-align: right;\">\n",
       "      <th></th>\n",
       "      <th>Airbnb</th>\n",
       "      <th>Pipeline</th>\n",
       "      <th>Frequency</th>\n",
       "      <th>Percentage</th>\n",
       "    </tr>\n",
       "  </thead>\n",
       "  <tbody>\n",
       "    <tr>\n",
       "      <th>0</th>\n",
       "      <td>5</td>\n",
       "      <td>4</td>\n",
       "      <td>650</td>\n",
       "      <td>31.36</td>\n",
       "    </tr>\n",
       "    <tr>\n",
       "      <th>1</th>\n",
       "      <td>5</td>\n",
       "      <td>4.5</td>\n",
       "      <td>404</td>\n",
       "      <td>19.49</td>\n",
       "    </tr>\n",
       "    <tr>\n",
       "      <th>3</th>\n",
       "      <td>4.5</td>\n",
       "      <td>4</td>\n",
       "      <td>686</td>\n",
       "      <td>33.09</td>\n",
       "    </tr>\n",
       "    <tr>\n",
       "      <th>4</th>\n",
       "      <td>4.5</td>\n",
       "      <td>4.5</td>\n",
       "      <td>199</td>\n",
       "      <td>9.60</td>\n",
       "    </tr>\n",
       "    <tr>\n",
       "      <th>7</th>\n",
       "      <td>4</td>\n",
       "      <td>4</td>\n",
       "      <td>100</td>\n",
       "      <td>4.82</td>\n",
       "    </tr>\n",
       "    <tr>\n",
       "      <th>13</th>\n",
       "      <td>Other</td>\n",
       "      <td>Other</td>\n",
       "      <td>34</td>\n",
       "      <td>1.65</td>\n",
       "    </tr>\n",
       "  </tbody>\n",
       "</table>\n",
       "</div>"
      ],
      "text/plain": [
       "   Airbnb Pipeline  Frequency  Percentage\n",
       "0       5        4        650       31.36\n",
       "1       5      4.5        404       19.49\n",
       "3     4.5        4        686       33.09\n",
       "4     4.5      4.5        199        9.60\n",
       "7       4        4        100        4.82\n",
       "13  Other    Other         34        1.65"
      ]
     },
     "execution_count": 31,
     "metadata": {},
     "output_type": "execute_result"
    }
   ],
   "source": [
    "ot=stars_compared[stars_compared['Percentage']<0.55]\n",
    "other=ot['Percentage'].sum()\n",
    "other\n",
    "freq=ot['Frequency'].sum()\n",
    "main=stars_compared[stars_compared['Percentage']>=0.55]\n",
    "main.loc[13]=['Other','Other',freq,other]\n",
    "main"
   ]
  },
  {
   "cell_type": "code",
   "execution_count": 32,
   "metadata": {
    "collapsed": false
   },
   "outputs": [
    {
     "data": {
      "text/plain": [
       "<matplotlib.axes._subplots.AxesSubplot at 0x7341a30>"
      ]
     },
     "execution_count": 32,
     "metadata": {},
     "output_type": "execute_result"
    },
    {
     "data": {
      "image/png": "[encoded data removed]",
      "text/plain": [
       "<matplotlib.figure.Figure at 0x7341d50>"
      ]
     },
     "metadata": {},
     "output_type": "display_data"
    }
   ],
   "source": [
    "main['Percentage'].plot(kind='pie', labels=['(5 : 4)', '(5 : 4.5)', \n",
    "                                            '(4.5 : 4)', '(4.5 : 4.5)', '(4 : 4)', 'Others'],\n",
    "                        autopct='%.2f', fontsize=10, figsize=(6, 6))"
   ]
  },
  {
   "cell_type": "markdown",
   "metadata": {},
   "source": [
    "## The occurence of \"rare\" combinations"
   ]
  },
  {
   "cell_type": "code",
   "execution_count": 33,
   "metadata": {
    "collapsed": false
   },
   "outputs": [
    {
     "data": {
      "text/html": [
       "<div>\n",
       "<table border=\"1\" class=\"dataframe\">\n",
       "  <thead>\n",
       "    <tr style=\"text-align: right;\">\n",
       "      <th></th>\n",
       "      <th>Airbnb</th>\n",
       "      <th>Pipeline</th>\n",
       "      <th>Frequency</th>\n",
       "      <th>Percentage</th>\n",
       "    </tr>\n",
       "  </thead>\n",
       "  <tbody>\n",
       "    <tr>\n",
       "      <th>2</th>\n",
       "      <td>5.0</td>\n",
       "      <td>3.5</td>\n",
       "      <td>2</td>\n",
       "      <td>0.10</td>\n",
       "    </tr>\n",
       "    <tr>\n",
       "      <th>5</th>\n",
       "      <td>4.5</td>\n",
       "      <td>3.5</td>\n",
       "      <td>4</td>\n",
       "      <td>0.19</td>\n",
       "    </tr>\n",
       "    <tr>\n",
       "      <th>6</th>\n",
       "      <td>4.5</td>\n",
       "      <td>3.0</td>\n",
       "      <td>1</td>\n",
       "      <td>0.05</td>\n",
       "    </tr>\n",
       "    <tr>\n",
       "      <th>8</th>\n",
       "      <td>4.0</td>\n",
       "      <td>4.5</td>\n",
       "      <td>11</td>\n",
       "      <td>0.53</td>\n",
       "    </tr>\n",
       "    <tr>\n",
       "      <th>9</th>\n",
       "      <td>4.0</td>\n",
       "      <td>3.5</td>\n",
       "      <td>7</td>\n",
       "      <td>0.34</td>\n",
       "    </tr>\n",
       "    <tr>\n",
       "      <th>10</th>\n",
       "      <td>3.5</td>\n",
       "      <td>4.0</td>\n",
       "      <td>6</td>\n",
       "      <td>0.29</td>\n",
       "    </tr>\n",
       "    <tr>\n",
       "      <th>11</th>\n",
       "      <td>3.5</td>\n",
       "      <td>3.5</td>\n",
       "      <td>2</td>\n",
       "      <td>0.10</td>\n",
       "    </tr>\n",
       "    <tr>\n",
       "      <th>12</th>\n",
       "      <td>3.0</td>\n",
       "      <td>5.0</td>\n",
       "      <td>1</td>\n",
       "      <td>0.05</td>\n",
       "    </tr>\n",
       "  </tbody>\n",
       "</table>\n",
       "</div>"
      ],
      "text/plain": [
       "    Airbnb  Pipeline  Frequency  Percentage\n",
       "2      5.0       3.5          2        0.10\n",
       "5      4.5       3.5          4        0.19\n",
       "6      4.5       3.0          1        0.05\n",
       "8      4.0       4.5         11        0.53\n",
       "9      4.0       3.5          7        0.34\n",
       "10     3.5       4.0          6        0.29\n",
       "11     3.5       3.5          2        0.10\n",
       "12     3.0       5.0          1        0.05"
      ]
     },
     "execution_count": 33,
     "metadata": {},
     "output_type": "execute_result"
    }
   ],
   "source": [
    "ot"
   ]
  },
  {
   "cell_type": "code",
   "execution_count": 34,
   "metadata": {
    "collapsed": false
   },
   "outputs": [
    {
     "data": {
      "image/png": "[encoded data removed]",
      "text/plain": [
       "<matplotlib.figure.Figure at 0x7341550>"
      ]
     },
     "metadata": {},
     "output_type": "display_data"
    }
   ],
   "source": [
    "ot['Percentage'].plot(kind='bar',figsize=(6,4))\n",
    "plt.axis([-1, 14, 0, 0.7])\n",
    "plt.show()"
   ]
  },
  {
   "cell_type": "markdown",
   "metadata": {},
   "source": [
    "## How value combination of stars is distributed"
   ]
  },
  {
   "cell_type": "code",
   "execution_count": 35,
   "metadata": {
    "collapsed": false
   },
   "outputs": [
    {
     "data": {
      "image/png": "[encoded data removed]",
      "text/plain": [
       "<matplotlib.figure.Figure at 0x736a6b0>"
      ]
     },
     "metadata": {},
     "output_type": "display_data"
    }
   ],
   "source": [
    "fx = comparison.plot(kind='scatter', x='Overall', y='Sentimentscore', color='DarkRed', \n",
    "                     label='Compound scores', s=comparison['Overall']*150, alpha=0.2, figsize=(8,8)).set_xlim(0,8)\n",
    "line = plt.plot([0,1,2,3,4,5,6], [0,1,2,3,4,5,6])\n",
    "plt.axis([0, 5.5, 0, 5.5])\n",
    "plt.setp(line, color='Black', linewidth=2.5)\n",
    "plt.xlabel('Airbnb')\n",
    "plt.ylabel('Pipeline')\n",
    "plt.show()"
   ]
  },
  {
   "cell_type": "markdown",
   "metadata": {},
   "source": [
    "## The frequency for all Airbnb assigned stars"
   ]
  },
  {
   "cell_type": "code",
   "execution_count": 36,
   "metadata": {
    "collapsed": false
   },
   "outputs": [
    {
     "data": {
      "text/html": [
       "<div>\n",
       "<table border=\"1\" class=\"dataframe\">\n",
       "  <thead>\n",
       "    <tr style=\"text-align: right;\">\n",
       "      <th></th>\n",
       "      <th>Frequency</th>\n",
       "      <th>Percentage</th>\n",
       "    </tr>\n",
       "    <tr>\n",
       "      <th>Airbnb</th>\n",
       "      <th></th>\n",
       "      <th></th>\n",
       "    </tr>\n",
       "  </thead>\n",
       "  <tbody>\n",
       "    <tr>\n",
       "      <th>3.0</th>\n",
       "      <td>1</td>\n",
       "      <td>0.05</td>\n",
       "    </tr>\n",
       "    <tr>\n",
       "      <th>3.5</th>\n",
       "      <td>8</td>\n",
       "      <td>0.39</td>\n",
       "    </tr>\n",
       "    <tr>\n",
       "      <th>4.0</th>\n",
       "      <td>118</td>\n",
       "      <td>5.69</td>\n",
       "    </tr>\n",
       "    <tr>\n",
       "      <th>4.5</th>\n",
       "      <td>890</td>\n",
       "      <td>42.93</td>\n",
       "    </tr>\n",
       "    <tr>\n",
       "      <th>5.0</th>\n",
       "      <td>1056</td>\n",
       "      <td>50.95</td>\n",
       "    </tr>\n",
       "  </tbody>\n",
       "</table>\n",
       "</div>"
      ],
      "text/plain": [
       "        Frequency  Percentage\n",
       "Airbnb                       \n",
       "3.0             1        0.05\n",
       "3.5             8        0.39\n",
       "4.0           118        5.69\n",
       "4.5           890       42.93\n",
       "5.0          1056       50.95"
      ]
     },
     "execution_count": 36,
     "metadata": {},
     "output_type": "execute_result"
    }
   ],
   "source": [
    "abnb=stars_compared[['Airbnb','Frequency','Percentage']].groupby('Airbnb').sum()\n",
    "abnb"
   ]
  },
  {
   "cell_type": "code",
   "execution_count": 37,
   "metadata": {
    "collapsed": false
   },
   "outputs": [
    {
     "data": {
      "text/plain": [
       "[0, 5.5, 0, 80]"
      ]
     },
     "execution_count": 37,
     "metadata": {},
     "output_type": "execute_result"
    },
    {
     "data": {
      "image/png": "[encoded data removed]",
      "text/plain": [
       "<matplotlib.figure.Figure at 0xba65950>"
      ]
     },
     "metadata": {},
     "output_type": "display_data"
    }
   ],
   "source": [
    "abnb['Percentage'].plot(kind='bar',figsize=(5,5))\n",
    "plt.axis([0, 5.5, 0, 80])"
   ]
  },
  {
   "cell_type": "markdown",
   "metadata": {},
   "source": [
    "## The frequency for the stars assigned by the pipeline"
   ]
  },
  {
   "cell_type": "code",
   "execution_count": 38,
   "metadata": {
    "collapsed": false
   },
   "outputs": [
    {
     "data": {
      "text/html": [
       "<div>\n",
       "<table border=\"1\" class=\"dataframe\">\n",
       "  <thead>\n",
       "    <tr style=\"text-align: right;\">\n",
       "      <th></th>\n",
       "      <th>Frequency</th>\n",
       "      <th>Percentage</th>\n",
       "    </tr>\n",
       "    <tr>\n",
       "      <th>Pipeline</th>\n",
       "      <th></th>\n",
       "      <th></th>\n",
       "    </tr>\n",
       "  </thead>\n",
       "  <tbody>\n",
       "    <tr>\n",
       "      <th>3.0</th>\n",
       "      <td>1</td>\n",
       "      <td>0.05</td>\n",
       "    </tr>\n",
       "    <tr>\n",
       "      <th>3.5</th>\n",
       "      <td>15</td>\n",
       "      <td>0.73</td>\n",
       "    </tr>\n",
       "    <tr>\n",
       "      <th>4.0</th>\n",
       "      <td>1442</td>\n",
       "      <td>69.56</td>\n",
       "    </tr>\n",
       "    <tr>\n",
       "      <th>4.5</th>\n",
       "      <td>614</td>\n",
       "      <td>29.62</td>\n",
       "    </tr>\n",
       "    <tr>\n",
       "      <th>5.0</th>\n",
       "      <td>1</td>\n",
       "      <td>0.05</td>\n",
       "    </tr>\n",
       "  </tbody>\n",
       "</table>\n",
       "</div>"
      ],
      "text/plain": [
       "          Frequency  Percentage\n",
       "Pipeline                       \n",
       "3.0               1        0.05\n",
       "3.5              15        0.73\n",
       "4.0            1442       69.56\n",
       "4.5             614       29.62\n",
       "5.0               1        0.05"
      ]
     },
     "execution_count": 38,
     "metadata": {},
     "output_type": "execute_result"
    }
   ],
   "source": [
    "pip=stars_compared[['Pipeline','Frequency','Percentage']].groupby('Pipeline').sum()\n",
    "pip"
   ]
  },
  {
   "cell_type": "code",
   "execution_count": 39,
   "metadata": {
    "collapsed": false
   },
   "outputs": [
    {
     "data": {
      "text/plain": [
       "[0, 5.5, 0, 80]"
      ]
     },
     "execution_count": 39,
     "metadata": {},
     "output_type": "execute_result"
    },
    {
     "data": {
      "image/png": "[encoded data removed]",
      "text/plain": [
       "<matplotlib.figure.Figure at 0xc3ce470>"
      ]
     },
     "metadata": {},
     "output_type": "display_data"
    }
   ],
   "source": [
    "pip['Percentage'].plot(kind='bar',color='DarkRed',figsize=(5,5))\n",
    "plt.axis([0, 5.5, 0, 80])"
   ]
  },
  {
   "cell_type": "markdown",
   "metadata": {},
   "source": [
    "## The difference in stars Airbnb and pipeline compared"
   ]
  },
  {
   "cell_type": "code",
   "execution_count": 40,
   "metadata": {
    "collapsed": false
   },
   "outputs": [
    {
     "data": {
      "text/html": [
       "<div>\n",
       "<table border=\"1\" class=\"dataframe\">\n",
       "  <thead>\n",
       "    <tr style=\"text-align: right;\">\n",
       "      <th></th>\n",
       "      <th>Frequency</th>\n",
       "      <th>Normalized</th>\n",
       "    </tr>\n",
       "  </thead>\n",
       "  <tbody>\n",
       "    <tr>\n",
       "      <th>0.5</th>\n",
       "      <td>1097</td>\n",
       "      <td>0.529185</td>\n",
       "    </tr>\n",
       "    <tr>\n",
       "      <th>1.0</th>\n",
       "      <td>654</td>\n",
       "      <td>0.315485</td>\n",
       "    </tr>\n",
       "    <tr>\n",
       "      <th>0.0</th>\n",
       "      <td>301</td>\n",
       "      <td>0.145200</td>\n",
       "    </tr>\n",
       "    <tr>\n",
       "      <th>-0.5</th>\n",
       "      <td>17</td>\n",
       "      <td>0.008201</td>\n",
       "    </tr>\n",
       "    <tr>\n",
       "      <th>1.5</th>\n",
       "      <td>3</td>\n",
       "      <td>0.001447</td>\n",
       "    </tr>\n",
       "    <tr>\n",
       "      <th>-2.0</th>\n",
       "      <td>1</td>\n",
       "      <td>0.000482</td>\n",
       "    </tr>\n",
       "  </tbody>\n",
       "</table>\n",
       "</div>"
      ],
      "text/plain": [
       "      Frequency  Normalized\n",
       " 0.5       1097    0.529185\n",
       " 1.0        654    0.315485\n",
       " 0.0        301    0.145200\n",
       "-0.5         17    0.008201\n",
       " 1.5          3    0.001447\n",
       "-2.0          1    0.000482"
      ]
     },
     "execution_count": 40,
     "metadata": {},
     "output_type": "execute_result"
    }
   ],
   "source": [
    "dfr=(comparison['Overall']-comparison['Sentimentscore']).value_counts()\n",
    "norm= (comparison['Overall']-comparison['Sentimentscore']).value_counts(normalize=True)\n",
    "dfrf=dfr.to_frame()\n",
    "dfrf['Difference']=dfrf.index\n",
    "dfrf['Normalized']=norm\n",
    "dfrf.columns=['Frequency','Difference','Normalized']\n",
    "dfrf[['Frequency','Normalized']]"
   ]
  },
  {
   "cell_type": "markdown",
   "metadata": {},
   "source": [
    "## Get Listing ID for cases with big differences "
   ]
  },
  {
   "cell_type": "code",
   "execution_count": 41,
   "metadata": {
    "collapsed": false
   },
   "outputs": [
    {
     "data": {
      "text/html": [
       "<div>\n",
       "<table border=\"1\" class=\"dataframe\">\n",
       "  <thead>\n",
       "    <tr style=\"text-align: right;\">\n",
       "      <th></th>\n",
       "      <th>Overall</th>\n",
       "      <th>Listing ID</th>\n",
       "      <th>Sentimentscore</th>\n",
       "      <th>Difference</th>\n",
       "    </tr>\n",
       "  </thead>\n",
       "  <tbody>\n",
       "    <tr>\n",
       "      <th>491</th>\n",
       "      <td>5.0</td>\n",
       "      <td>1357971</td>\n",
       "      <td>3.5</td>\n",
       "      <td>1.5</td>\n",
       "    </tr>\n",
       "    <tr>\n",
       "      <th>564</th>\n",
       "      <td>4.5</td>\n",
       "      <td>1410370</td>\n",
       "      <td>3.0</td>\n",
       "      <td>1.5</td>\n",
       "    </tr>\n",
       "    <tr>\n",
       "      <th>1807</th>\n",
       "      <td>5.0</td>\n",
       "      <td>2606699</td>\n",
       "      <td>3.5</td>\n",
       "      <td>1.5</td>\n",
       "    </tr>\n",
       "    <tr>\n",
       "      <th>34</th>\n",
       "      <td>3.0</td>\n",
       "      <td>1022631</td>\n",
       "      <td>5.0</td>\n",
       "      <td>-2.0</td>\n",
       "    </tr>\n",
       "  </tbody>\n",
       "</table>\n",
       "</div>"
      ],
      "text/plain": [
       "      Overall  Listing ID  Sentimentscore  Difference\n",
       "491       5.0     1357971             3.5         1.5\n",
       "564       4.5     1410370             3.0         1.5\n",
       "1807      5.0     2606699             3.5         1.5\n",
       "34        3.0     1022631             5.0        -2.0"
      ]
     },
     "execution_count": 41,
     "metadata": {},
     "output_type": "execute_result"
    }
   ],
   "source": [
    "comparison['Difference'] = comparison['Overall']-comparison['Sentimentscore']\n",
    "bg1=comparison[comparison['Difference']>1]\n",
    "ls1=comparison[comparison['Difference']<-1]\n",
    "weird=pd.concat([bg1,ls1])\n",
    "weird_listing=weird['Listing ID']\n",
    "weird"
   ]
  },
  {
   "cell_type": "markdown",
   "metadata": {},
   "source": [
    "## Let's check these cases\n",
    "Starting from the one with the biggest difference. So only one review... Which has a good sentiment score and makes the whole rating  of pipeline base only on this review"
   ]
  },
  {
   "cell_type": "code",
   "execution_count": 42,
   "metadata": {
    "collapsed": false
   },
   "outputs": [
    {
     "data": {
      "text/html": [
       "<div>\n",
       "<table border=\"1\" class=\"dataframe\">\n",
       "  <thead>\n",
       "    <tr style=\"text-align: right;\">\n",
       "      <th></th>\n",
       "      <th>Listing ID</th>\n",
       "      <th>Review ID</th>\n",
       "      <th>Sentence</th>\n",
       "      <th>Sentiment score</th>\n",
       "    </tr>\n",
       "  </thead>\n",
       "  <tbody>\n",
       "    <tr>\n",
       "      <th>6515</th>\n",
       "      <td>1022631</td>\n",
       "      <td>10747505</td>\n",
       "      <td>Had a lovely break, very cosy home had most co...</td>\n",
       "      <td>0.771737</td>\n",
       "    </tr>\n",
       "  </tbody>\n",
       "</table>\n",
       "</div>"
      ],
      "text/plain": [
       "      Listing ID  Review ID                                           Sentence  Sentiment score\n",
       "6515     1022631   10747505  Had a lovely break, very cosy home had most co...         0.771737"
      ]
     },
     "execution_count": 42,
     "metadata": {},
     "output_type": "execute_result"
    }
   ],
   "source": [
    "full_content = pd.read_csv('C:/Python27/output_improved_AMS.csv')[['Listing ID','Review ID','Sentence','Sentiment score']]\n",
    "full_content[full_content['Listing ID']==1022631]"
   ]
  },
  {
   "cell_type": "markdown",
   "metadata": {},
   "source": [
    "# And now the cases with difference 1.5\n",
    "## Let's see this one\n",
    "And this other place has no reviews except of one cancelled reservation, for which the pipeline is neutral (3 stars)"
   ]
  },
  {
   "cell_type": "code",
   "execution_count": 43,
   "metadata": {
    "collapsed": false
   },
   "outputs": [
    {
     "data": {
      "text/html": [
       "<div>\n",
       "<table border=\"1\" class=\"dataframe\">\n",
       "  <thead>\n",
       "    <tr style=\"text-align: right;\">\n",
       "      <th></th>\n",
       "      <th>Listing ID</th>\n",
       "      <th>Review ID</th>\n",
       "      <th>Sentence</th>\n",
       "      <th>Sentiment score</th>\n",
       "    </tr>\n",
       "  </thead>\n",
       "  <tbody>\n",
       "    <tr>\n",
       "      <th>90721</th>\n",
       "      <td>1410370</td>\n",
       "      <td>30601951</td>\n",
       "      <td>The reservation was canceled 20 days before ar...</td>\n",
       "      <td>0.0</td>\n",
       "    </tr>\n",
       "    <tr>\n",
       "      <th>90722</th>\n",
       "      <td>1410370</td>\n",
       "      <td>30601951</td>\n",
       "      <td>This is an automated posting.</td>\n",
       "      <td>0.0</td>\n",
       "    </tr>\n",
       "  </tbody>\n",
       "</table>\n",
       "</div>"
      ],
      "text/plain": [
       "       Listing ID  Review ID                                           Sentence  Sentiment score\n",
       "90721     1410370   30601951  The reservation was canceled 20 days before ar...              0.0\n",
       "90722     1410370   30601951                      This is an automated posting.              0.0"
      ]
     },
     "execution_count": 43,
     "metadata": {},
     "output_type": "execute_result"
    }
   ],
   "source": [
    "full_content[full_content['Listing ID']==1410370]\n"
   ]
  },
  {
   "cell_type": "markdown",
   "metadata": {},
   "source": [
    "## And another ..."
   ]
  },
  {
   "cell_type": "code",
   "execution_count": 45,
   "metadata": {
    "collapsed": false
   },
   "outputs": [
    {
     "data": {
      "text/html": [
       "<div>\n",
       "<table border=\"1\" class=\"dataframe\">\n",
       "  <thead>\n",
       "    <tr style=\"text-align: right;\">\n",
       "      <th></th>\n",
       "      <th>Listing ID</th>\n",
       "      <th>Review ID</th>\n",
       "      <th>Sentence</th>\n",
       "      <th>Sentiment score</th>\n",
       "    </tr>\n",
       "  </thead>\n",
       "  <tbody>\n",
       "    <tr>\n",
       "      <th>79596</th>\n",
       "      <td>1357971</td>\n",
       "      <td>7741708</td>\n",
       "      <td>We had a great time in Josh's Camper, he is ve...</td>\n",
       "      <td>0.733937</td>\n",
       "    </tr>\n",
       "    <tr>\n",
       "      <th>79597</th>\n",
       "      <td>1357971</td>\n",
       "      <td>7741708</td>\n",
       "      <td>So I hope we see us again!!</td>\n",
       "      <td>0.582708</td>\n",
       "    </tr>\n",
       "    <tr>\n",
       "      <th>79598</th>\n",
       "      <td>1357971</td>\n",
       "      <td>7741708</td>\n",
       "      <td>Thanks for the good time in your Camper!</td>\n",
       "      <td>0.726276</td>\n",
       "    </tr>\n",
       "    <tr>\n",
       "      <th>79599</th>\n",
       "      <td>1357971</td>\n",
       "      <td>8548435</td>\n",
       "      <td>A dream came true.... perfect!</td>\n",
       "      <td>0.717725</td>\n",
       "    </tr>\n",
       "    <tr>\n",
       "      <th>79600</th>\n",
       "      <td>1357971</td>\n",
       "      <td>8548435</td>\n",
       "      <td>Its a great experience to be living in the cam...</td>\n",
       "      <td>0.624893</td>\n",
       "    </tr>\n",
       "    <tr>\n",
       "      <th>79601</th>\n",
       "      <td>1357971</td>\n",
       "      <td>8548435</td>\n",
       "      <td>Almost like forgotten times relived.</td>\n",
       "      <td>0.149440</td>\n",
       "    </tr>\n",
       "    <tr>\n",
       "      <th>79602</th>\n",
       "      <td>1357971</td>\n",
       "      <td>8548435</td>\n",
       "      <td>I highly recommend it!!!</td>\n",
       "      <td>0.567441</td>\n",
       "    </tr>\n",
       "    <tr>\n",
       "      <th>79603</th>\n",
       "      <td>1357971</td>\n",
       "      <td>8548435</td>\n",
       "      <td>just Perfect.</td>\n",
       "      <td>0.571885</td>\n",
       "    </tr>\n",
       "    <tr>\n",
       "      <th>79604</th>\n",
       "      <td>1357971</td>\n",
       "      <td>9053128</td>\n",
       "      <td>We had a lovely stay in Joshua's camper van, w...</td>\n",
       "      <td>0.883160</td>\n",
       "    </tr>\n",
       "    <tr>\n",
       "      <th>79605</th>\n",
       "      <td>1357971</td>\n",
       "      <td>31327563</td>\n",
       "      <td>Josh is a very flexible,friendly and nice pers...</td>\n",
       "      <td>0.737339</td>\n",
       "    </tr>\n",
       "    <tr>\n",
       "      <th>79606</th>\n",
       "      <td>1357971</td>\n",
       "      <td>31327563</td>\n",
       "      <td>Angela and Josh are very very cool and simple.</td>\n",
       "      <td>0.435057</td>\n",
       "    </tr>\n",
       "    <tr>\n",
       "      <th>79607</th>\n",
       "      <td>1357971</td>\n",
       "      <td>31327563</td>\n",
       "      <td>unfortunately we could not stay in the camper ...</td>\n",
       "      <td>0.485357</td>\n",
       "    </tr>\n",
       "    <tr>\n",
       "      <th>79608</th>\n",
       "      <td>1357971</td>\n",
       "      <td>31327563</td>\n",
       "      <td>always happy :) next time it will be the camper.</td>\n",
       "      <td>0.771737</td>\n",
       "    </tr>\n",
       "    <tr>\n",
       "      <th>79609</th>\n",
       "      <td>1357971</td>\n",
       "      <td>31327563</td>\n",
       "      <td>Greetings from Munich Germany</td>\n",
       "      <td>0.421464</td>\n",
       "    </tr>\n",
       "    <tr>\n",
       "      <th>79610</th>\n",
       "      <td>1357971</td>\n",
       "      <td>37758257</td>\n",
       "      <td>An excellent choice for an inexpensive stay in...</td>\n",
       "      <td>0.571885</td>\n",
       "    </tr>\n",
       "    <tr>\n",
       "      <th>79611</th>\n",
       "      <td>1357971</td>\n",
       "      <td>37758257</td>\n",
       "      <td>This is not luxury living but the van is great...</td>\n",
       "      <td>0.952765</td>\n",
       "    </tr>\n",
       "    <tr>\n",
       "      <th>79612</th>\n",
       "      <td>1357971</td>\n",
       "      <td>39158959</td>\n",
       "      <td>The host canceled this reservation 47 days bef...</td>\n",
       "      <td>0.000000</td>\n",
       "    </tr>\n",
       "    <tr>\n",
       "      <th>79613</th>\n",
       "      <td>1357971</td>\n",
       "      <td>39158959</td>\n",
       "      <td>This is an automated posting.</td>\n",
       "      <td>0.000000</td>\n",
       "    </tr>\n",
       "    <tr>\n",
       "      <th>79614</th>\n",
       "      <td>1357971</td>\n",
       "      <td>53183435</td>\n",
       "      <td>I am sorry to say my friend and i did not enjo...</td>\n",
       "      <td>0.471724</td>\n",
       "    </tr>\n",
       "    <tr>\n",
       "      <th>79615</th>\n",
       "      <td>1357971</td>\n",
       "      <td>53183435</td>\n",
       "      <td>What you see on the pictures is very very .. \"...</td>\n",
       "      <td>0.000000</td>\n",
       "    </tr>\n",
       "    <tr>\n",
       "      <th>79616</th>\n",
       "      <td>1357971</td>\n",
       "      <td>53183435</td>\n",
       "      <td>What you get is much more messy and ran down.</td>\n",
       "      <td>-0.420114</td>\n",
       "    </tr>\n",
       "    <tr>\n",
       "      <th>79617</th>\n",
       "      <td>1357971</td>\n",
       "      <td>53183435</td>\n",
       "      <td>When Joshua was introducing us to the place, o...</td>\n",
       "      <td>-0.749585</td>\n",
       "    </tr>\n",
       "    <tr>\n",
       "      <th>79618</th>\n",
       "      <td>1357971</td>\n",
       "      <td>53183435</td>\n",
       "      <td>and above all a terribly bad smell that fortun...</td>\n",
       "      <td>-0.796389</td>\n",
       "    </tr>\n",
       "    <tr>\n",
       "      <th>79619</th>\n",
       "      <td>1357971</td>\n",
       "      <td>53183435</td>\n",
       "      <td>The sink was covered with coffee grounds, so J...</td>\n",
       "      <td>0.000000</td>\n",
       "    </tr>\n",
       "    <tr>\n",
       "      <th>79620</th>\n",
       "      <td>1357971</td>\n",
       "      <td>53183435</td>\n",
       "      <td>Thus water was stagnating in the sink (...).</td>\n",
       "      <td>0.000000</td>\n",
       "    </tr>\n",
       "    <tr>\n",
       "      <th>79621</th>\n",
       "      <td>1357971</td>\n",
       "      <td>53183435</td>\n",
       "      <td>There was a crazy mess in the front of the cam...</td>\n",
       "      <td>-0.885057</td>\n",
       "    </tr>\n",
       "    <tr>\n",
       "      <th>79622</th>\n",
       "      <td>1357971</td>\n",
       "      <td>53183435</td>\n",
       "      <td>The heater that you get creates beautiful ligh...</td>\n",
       "      <td>-0.339950</td>\n",
       "    </tr>\n",
       "    <tr>\n",
       "      <th>79623</th>\n",
       "      <td>1357971</td>\n",
       "      <td>53183435</td>\n",
       "      <td>I really cannot advise this camper as \"a cheap...</td>\n",
       "      <td>0.510607</td>\n",
       "    </tr>\n",
       "    <tr>\n",
       "      <th>79624</th>\n",
       "      <td>1357971</td>\n",
       "      <td>53183435</td>\n",
       "      <td>It seems like Josh wants to make as few invest...</td>\n",
       "      <td>-0.481587</td>\n",
       "    </tr>\n",
       "    <tr>\n",
       "      <th>79625</th>\n",
       "      <td>1357971</td>\n",
       "      <td>53183435</td>\n",
       "      <td>Talking about honesty, the people of the camps...</td>\n",
       "      <td>-0.363248</td>\n",
       "    </tr>\n",
       "    <tr>\n",
       "      <th>79626</th>\n",
       "      <td>1357971</td>\n",
       "      <td>53183435</td>\n",
       "      <td>That's maybe why Joshua insisted so much for u...</td>\n",
       "      <td>0.000000</td>\n",
       "    </tr>\n",
       "    <tr>\n",
       "      <th>79627</th>\n",
       "      <td>1357971</td>\n",
       "      <td>53183435</td>\n",
       "      <td>So it seems like Josh does not care neither ab...</td>\n",
       "      <td>-0.621720</td>\n",
       "    </tr>\n",
       "    <tr>\n",
       "      <th>79628</th>\n",
       "      <td>1357971</td>\n",
       "      <td>53183435</td>\n",
       "      <td>I will add that after we did the payment onlin...</td>\n",
       "      <td>0.000000</td>\n",
       "    </tr>\n",
       "    <tr>\n",
       "      <th>79629</th>\n",
       "      <td>1357971</td>\n",
       "      <td>53183435</td>\n",
       "      <td>Seems like once you've payed, you've done the ...</td>\n",
       "      <td>0.556335</td>\n",
       "    </tr>\n",
       "    <tr>\n",
       "      <th>79630</th>\n",
       "      <td>1357971</td>\n",
       "      <td>53183435</td>\n",
       "      <td>I am truly sorry for this bad review, i am als...</td>\n",
       "      <td>-0.295958</td>\n",
       "    </tr>\n",
       "    <tr>\n",
       "      <th>79631</th>\n",
       "      <td>1357971</td>\n",
       "      <td>53183435</td>\n",
       "      <td>I still want to say that the bed sheets were c...</td>\n",
       "      <td>0.458831</td>\n",
       "    </tr>\n",
       "  </tbody>\n",
       "</table>\n",
       "</div>"
      ],
      "text/plain": [
       "       Listing ID  Review ID                                           Sentence  Sentiment score\n",
       "79596     1357971    7741708  We had a great time in Josh's Camper, he is ve...         0.733937\n",
       "79597     1357971    7741708                        So I hope we see us again!!         0.582708\n",
       "79598     1357971    7741708           Thanks for the good time in your Camper!         0.726276\n",
       "79599     1357971    8548435                     A dream came true.... perfect!         0.717725\n",
       "79600     1357971    8548435  Its a great experience to be living in the cam...         0.624893\n",
       "79601     1357971    8548435               Almost like forgotten times relived.         0.149440\n",
       "79602     1357971    8548435                           I highly recommend it!!!         0.567441\n",
       "79603     1357971    8548435                                      just Perfect.         0.571885\n",
       "79604     1357971    9053128  We had a lovely stay in Joshua's camper van, w...         0.883160\n",
       "79605     1357971   31327563  Josh is a very flexible,friendly and nice pers...         0.737339\n",
       "79606     1357971   31327563     Angela and Josh are very very cool and simple.         0.435057\n",
       "79607     1357971   31327563  unfortunately we could not stay in the camper ...         0.485357\n",
       "79608     1357971   31327563   always happy :) next time it will be the camper.         0.771737\n",
       "79609     1357971   31327563                      Greetings from Munich Germany         0.421464\n",
       "79610     1357971   37758257  An excellent choice for an inexpensive stay in...         0.571885\n",
       "79611     1357971   37758257  This is not luxury living but the van is great...         0.952765\n",
       "79612     1357971   39158959  The host canceled this reservation 47 days bef...         0.000000\n",
       "79613     1357971   39158959                      This is an automated posting.         0.000000\n",
       "79614     1357971   53183435  I am sorry to say my friend and i did not enjo...         0.471724\n",
       "79615     1357971   53183435  What you see on the pictures is very very .. \"...         0.000000\n",
       "79616     1357971   53183435      What you get is much more messy and ran down.        -0.420114\n",
       "79617     1357971   53183435  When Joshua was introducing us to the place, o...        -0.749585\n",
       "79618     1357971   53183435  and above all a terribly bad smell that fortun...        -0.796389\n",
       "79619     1357971   53183435  The sink was covered with coffee grounds, so J...         0.000000\n",
       "79620     1357971   53183435       Thus water was stagnating in the sink (...).         0.000000\n",
       "79621     1357971   53183435  There was a crazy mess in the front of the cam...        -0.885057\n",
       "79622     1357971   53183435  The heater that you get creates beautiful ligh...        -0.339950\n",
       "79623     1357971   53183435  I really cannot advise this camper as \"a cheap...         0.510607\n",
       "79624     1357971   53183435  It seems like Josh wants to make as few invest...        -0.481587\n",
       "79625     1357971   53183435  Talking about honesty, the people of the camps...        -0.363248\n",
       "79626     1357971   53183435  That's maybe why Joshua insisted so much for u...         0.000000\n",
       "79627     1357971   53183435  So it seems like Josh does not care neither ab...        -0.621720\n",
       "79628     1357971   53183435  I will add that after we did the payment onlin...         0.000000\n",
       "79629     1357971   53183435  Seems like once you've payed, you've done the ...         0.556335\n",
       "79630     1357971   53183435  I am truly sorry for this bad review, i am als...        -0.295958\n",
       "79631     1357971   53183435  I still want to say that the bed sheets were c...         0.458831"
      ]
     },
     "execution_count": 45,
     "metadata": {},
     "output_type": "execute_result"
    }
   ],
   "source": [
    "full_content[full_content['Listing ID']==1357971]"
   ]
  },
  {
   "cell_type": "markdown",
   "metadata": {},
   "source": [
    "## And the last case\n"
   ]
  },
  {
   "cell_type": "code",
   "execution_count": 46,
   "metadata": {
    "collapsed": false
   },
   "outputs": [
    {
     "data": {
      "text/html": [
       "<div>\n",
       "<table border=\"1\" class=\"dataframe\">\n",
       "  <thead>\n",
       "    <tr style=\"text-align: right;\">\n",
       "      <th></th>\n",
       "      <th>Listing ID</th>\n",
       "      <th>Review ID</th>\n",
       "      <th>Sentence</th>\n",
       "      <th>Sentiment score</th>\n",
       "    </tr>\n",
       "  </thead>\n",
       "  <tbody>\n",
       "    <tr>\n",
       "      <th>268229</th>\n",
       "      <td>2606699</td>\n",
       "      <td>17075400</td>\n",
       "      <td>Amazing home and perfect location.</td>\n",
       "      <td>0.817624</td>\n",
       "    </tr>\n",
       "    <tr>\n",
       "      <th>268230</th>\n",
       "      <td>2606699</td>\n",
       "      <td>17075400</td>\n",
       "      <td>Rob was very friendly and welcoming.</td>\n",
       "      <td>0.469009</td>\n",
       "    </tr>\n",
       "    <tr>\n",
       "      <th>268231</th>\n",
       "      <td>2606699</td>\n",
       "      <td>17075400</td>\n",
       "      <td>Highly recommend this apartment!</td>\n",
       "      <td>0.474020</td>\n",
       "    </tr>\n",
       "    <tr>\n",
       "      <th>268232</th>\n",
       "      <td>2606699</td>\n",
       "      <td>20933169</td>\n",
       "      <td>I stayed at Rob's house over the weekend with ...</td>\n",
       "      <td>0.807398</td>\n",
       "    </tr>\n",
       "    <tr>\n",
       "      <th>268233</th>\n",
       "      <td>2606699</td>\n",
       "      <td>20933169</td>\n",
       "      <td>The house is spacious and cosy.</td>\n",
       "      <td>0.000000</td>\n",
       "    </tr>\n",
       "    <tr>\n",
       "      <th>268234</th>\n",
       "      <td>2606699</td>\n",
       "      <td>20933169</td>\n",
       "      <td>It's in a quiet neighborhood but still close e...</td>\n",
       "      <td>0.000000</td>\n",
       "    </tr>\n",
       "    <tr>\n",
       "      <th>268235</th>\n",
       "      <td>2606699</td>\n",
       "      <td>20933169</td>\n",
       "      <td>Rob was very nice and accommodating, and even ...</td>\n",
       "      <td>-0.129799</td>\n",
       "    </tr>\n",
       "    <tr>\n",
       "      <th>268236</th>\n",
       "      <td>2606699</td>\n",
       "      <td>20933169</td>\n",
       "      <td>I would gladly stay there again.</td>\n",
       "      <td>0.339950</td>\n",
       "    </tr>\n",
       "    <tr>\n",
       "      <th>268237</th>\n",
       "      <td>2606699</td>\n",
       "      <td>28894069</td>\n",
       "      <td>the location was amazing, the flat is little o...</td>\n",
       "      <td>0.726946</td>\n",
       "    </tr>\n",
       "    <tr>\n",
       "      <th>268238</th>\n",
       "      <td>2606699</td>\n",
       "      <td>28894069</td>\n",
       "      <td>however there was one bedroom and 2 singles be...</td>\n",
       "      <td>0.000000</td>\n",
       "    </tr>\n",
       "    <tr>\n",
       "      <th>268239</th>\n",
       "      <td>2606699</td>\n",
       "      <td>43326085</td>\n",
       "      <td>It was a great home base while staying in Amst...</td>\n",
       "      <td>0.624893</td>\n",
       "    </tr>\n",
       "    <tr>\n",
       "      <th>268240</th>\n",
       "      <td>2606699</td>\n",
       "      <td>43326085</td>\n",
       "      <td>There are lots of stairs, but this is to be ex...</td>\n",
       "      <td>0.000000</td>\n",
       "    </tr>\n",
       "    <tr>\n",
       "      <th>268241</th>\n",
       "      <td>2606699</td>\n",
       "      <td>43326085</td>\n",
       "      <td>The apartment was exactly as advertised.</td>\n",
       "      <td>0.000000</td>\n",
       "    </tr>\n",
       "    <tr>\n",
       "      <th>268242</th>\n",
       "      <td>2606699</td>\n",
       "      <td>43326085</td>\n",
       "      <td>Rob was an easy going host.</td>\n",
       "      <td>-0.177858</td>\n",
       "    </tr>\n",
       "    <tr>\n",
       "      <th>268243</th>\n",
       "      <td>2606699</td>\n",
       "      <td>43326085</td>\n",
       "      <td>Rob was there at our scheduled check in time.</td>\n",
       "      <td>-0.557370</td>\n",
       "    </tr>\n",
       "    <tr>\n",
       "      <th>268244</th>\n",
       "      <td>2606699</td>\n",
       "      <td>43326085</td>\n",
       "      <td>Comfy bed, and warm shower.</td>\n",
       "      <td>0.226348</td>\n",
       "    </tr>\n",
       "    <tr>\n",
       "      <th>268245</th>\n",
       "      <td>2606699</td>\n",
       "      <td>43326085</td>\n",
       "      <td>We had a great time.</td>\n",
       "      <td>0.624893</td>\n",
       "    </tr>\n",
       "  </tbody>\n",
       "</table>\n",
       "</div>"
      ],
      "text/plain": [
       "        Listing ID  Review ID                                           Sentence  Sentiment score\n",
       "268229     2606699   17075400                 Amazing home and perfect location.         0.817624\n",
       "268230     2606699   17075400               Rob was very friendly and welcoming.         0.469009\n",
       "268231     2606699   17075400                   Highly recommend this apartment!         0.474020\n",
       "268232     2606699   20933169  I stayed at Rob's house over the weekend with ...         0.807398\n",
       "268233     2606699   20933169                    The house is spacious and cosy.         0.000000\n",
       "268234     2606699   20933169  It's in a quiet neighborhood but still close e...         0.000000\n",
       "268235     2606699   20933169  Rob was very nice and accommodating, and even ...        -0.129799\n",
       "268236     2606699   20933169                   I would gladly stay there again.         0.339950\n",
       "268237     2606699   28894069  the location was amazing, the flat is little o...         0.726946\n",
       "268238     2606699   28894069  however there was one bedroom and 2 singles be...         0.000000\n",
       "268239     2606699   43326085  It was a great home base while staying in Amst...         0.624893\n",
       "268240     2606699   43326085  There are lots of stairs, but this is to be ex...         0.000000\n",
       "268241     2606699   43326085           The apartment was exactly as advertised.         0.000000\n",
       "268242     2606699   43326085                        Rob was an easy going host.        -0.177858\n",
       "268243     2606699   43326085      Rob was there at our scheduled check in time.        -0.557370\n",
       "268244     2606699   43326085                        Comfy bed, and warm shower.         0.226348\n",
       "268245     2606699   43326085                               We had a great time.         0.624893"
      ]
     },
     "execution_count": 46,
     "metadata": {},
     "output_type": "execute_result"
    }
   ],
   "source": [
    "full_content[full_content['Listing ID']==2606699]"
   ]
  },
  {
   "cell_type": "markdown",
   "metadata": {},
   "source": [
    "## Correlation between the two samples"
   ]
  },
  {
   "cell_type": "code",
   "execution_count": 47,
   "metadata": {
    "collapsed": false
   },
   "outputs": [
    {
     "data": {
      "text/html": [
       "<div>\n",
       "<table border=\"1\" class=\"dataframe\">\n",
       "  <thead>\n",
       "    <tr style=\"text-align: right;\">\n",
       "      <th></th>\n",
       "      <th>Overall</th>\n",
       "      <th>Sentimentscore</th>\n",
       "    </tr>\n",
       "  </thead>\n",
       "  <tbody>\n",
       "    <tr>\n",
       "      <th>Overall</th>\n",
       "      <td>1.000000</td>\n",
       "      <td>0.213125</td>\n",
       "    </tr>\n",
       "    <tr>\n",
       "      <th>Sentimentscore</th>\n",
       "      <td>0.213125</td>\n",
       "      <td>1.000000</td>\n",
       "    </tr>\n",
       "  </tbody>\n",
       "</table>\n",
       "</div>"
      ],
      "text/plain": [
       "                 Overall  Sentimentscore\n",
       "Overall         1.000000        0.213125\n",
       "Sentimentscore  0.213125        1.000000"
      ]
     },
     "execution_count": 47,
     "metadata": {},
     "output_type": "execute_result"
    }
   ],
   "source": [
    "c1=comparison[['Overall','Sentimentscore']].corr()\n",
    "c1"
   ]
  },
  {
   "cell_type": "markdown",
   "metadata": {},
   "source": [
    "## Standard error of mean of two samples"
   ]
  },
  {
   "cell_type": "code",
   "execution_count": 48,
   "metadata": {
    "collapsed": false
   },
   "outputs": [
    {
     "data": {
      "text/plain": [
       "0.0076694773172373614"
      ]
     },
     "execution_count": 48,
     "metadata": {},
     "output_type": "execute_result"
    }
   ],
   "source": [
    "difference=comparison['Overall']-comparison['Sentimentscore']\n",
    "difference.sem()"
   ]
  },
  {
   "cell_type": "markdown",
   "metadata": {},
   "source": [
    "## Kolmogorov–Smirnov (KS) two sample test"
   ]
  },
  {
   "cell_type": "code",
   "execution_count": 49,
   "metadata": {
    "collapsed": false
   },
   "outputs": [
    {
     "data": {
      "text/plain": [
       "(0.6420646406174626, 0.0)"
      ]
     },
     "execution_count": 49,
     "metadata": {},
     "output_type": "execute_result"
    }
   ],
   "source": [
    "x=comparison['Overall']\n",
    "y=comparison['Sentimentscore']\n",
    "ks_2samp(x, y)"
   ]
  },
  {
   "cell_type": "code",
   "execution_count": 50,
   "metadata": {
    "collapsed": false
   },
   "outputs": [
    {
     "data": {
      "text/plain": [
       "Overall           2073\n",
       "Listing ID        2073\n",
       "Sentimentscore    2073\n",
       "Difference        2073\n",
       "dtype: int64"
      ]
     },
     "execution_count": 50,
     "metadata": {},
     "output_type": "execute_result"
    }
   ],
   "source": [
    "n=comparison.count()\n",
    "n"
   ]
  },
  {
   "cell_type": "markdown",
   "metadata": {},
   "source": [
    "## Let's now remove half a star from Airbnb values\n",
    "I don't understand why p-value is 0.0 ..."
   ]
  },
  {
   "cell_type": "code",
   "execution_count": 51,
   "metadata": {
    "collapsed": false
   },
   "outputs": [
    {
     "data": {
      "text/html": [
       "<div>\n",
       "<table border=\"1\" class=\"dataframe\">\n",
       "  <thead>\n",
       "    <tr style=\"text-align: right;\">\n",
       "      <th></th>\n",
       "      <th>RE: Overall</th>\n",
       "      <th>Sentimentscore</th>\n",
       "    </tr>\n",
       "  </thead>\n",
       "  <tbody>\n",
       "    <tr>\n",
       "      <th>RE: Overall</th>\n",
       "      <td>1.000000</td>\n",
       "      <td>0.213125</td>\n",
       "    </tr>\n",
       "    <tr>\n",
       "      <th>Sentimentscore</th>\n",
       "      <td>0.213125</td>\n",
       "      <td>1.000000</td>\n",
       "    </tr>\n",
       "  </tbody>\n",
       "</table>\n",
       "</div>"
      ],
      "text/plain": [
       "                RE: Overall  Sentimentscore\n",
       "RE: Overall        1.000000        0.213125\n",
       "Sentimentscore     0.213125        1.000000"
      ]
     },
     "execution_count": 51,
     "metadata": {},
     "output_type": "execute_result"
    }
   ],
   "source": [
    "comparison['RE: Overall']=comparison['Overall']-0.5\n",
    "comparison[['RE: Overall','Sentimentscore']].corr()"
   ]
  },
  {
   "cell_type": "code",
   "execution_count": 52,
   "metadata": {
    "collapsed": false
   },
   "outputs": [
    {
     "data": {
      "text/plain": [
       "(0.21273516642547036, 1.7546515171170898e-41)"
      ]
     },
     "execution_count": 52,
     "metadata": {},
     "output_type": "execute_result"
    }
   ],
   "source": [
    "x=comparison['RE: Overall']\n",
    "y=comparison['Sentimentscore']\n",
    "ks_2samp(x, y)"
   ]
  }
 ],
 "metadata": {
  "kernelspec": {
   "display_name": "Python 2",
   "language": "python",
   "name": "python2"
  },
  "language_info": {
   "codemirror_mode": {
    "name": "ipython",
    "version": 2
   },
   "file_extension": ".py",
   "mimetype": "text/x-python",
   "name": "python",
   "nbconvert_exporter": "python",
   "pygments_lexer": "ipython2",
   "version": "2.7.11"
  }
 },
 "nbformat": 4,
 "nbformat_minor": 0
}
