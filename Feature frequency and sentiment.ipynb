{
 "cells": [
  {
   "cell_type": "code",
   "execution_count": 1,
   "metadata": {
    "collapsed": false
   },
   "outputs": [
    {
     "name": "stderr",
     "output_type": "stream",
     "text": [
      "c:\\python27\\lib\\site-packages\\IPython\\core\\interactiveshell.py:2885: FutureWarning: \n",
      "mpl_style had been deprecated and will be removed in a future version.\n",
      "Use `matplotlib.pyplot.style.use` instead.\n",
      "\n",
      "  exec(code_obj, self.user_global_ns, self.user_ns)\n"
     ]
    }
   ],
   "source": [
    "\n",
    "%matplotlib inline\n",
    "\n",
    "import pandas as pd\n",
    "import matplotlib.pyplot as plt\n",
    "import numpy as np\n",
    "from __future__ import division\n",
    "\n",
    "pd.set_option('display.mpl_style', 'default') # Make the graphs a bit prettier\n",
    "plt.rcParams['figure.figsize'] = (15, 5)\n",
    "plt.rcParams['font.family'] = 'sans-serif'\n",
    "\n",
    "# This is necessary to show lots of columns in pandas 0.12. \n",
    "# Not necessary in pandas 0.13.\n",
    "pd.set_option('display.width', 5000) \n",
    "pd.set_option('display.max_columns', 60)"
   ]
  },
  {
   "cell_type": "code",
   "execution_count": 2,
   "metadata": {
    "collapsed": false
   },
   "outputs": [],
   "source": [
    "pipe = pd.read_csv('C:/Python27/output_improved_AMS.csv')[['Listing ID','Sentiment score','Sentence','Review ID',  'Feature: Accuracy','Feature: Check-in','Feature: Cleanliness', 'Feature: Communication','Feature: Location','Feature: Value']]"
   ]
  },
  {
   "cell_type": "markdown",
   "metadata": {},
   "source": [
    "## Total number of sentences\n",
    "There are overall **302 081** sentences.\n"
   ]
  },
  {
   "cell_type": "code",
   "execution_count": 3,
   "metadata": {
    "collapsed": false
   },
   "outputs": [
    {
     "data": {
      "text/plain": [
       "302081"
      ]
     },
     "execution_count": 3,
     "metadata": {},
     "output_type": "execute_result"
    }
   ],
   "source": [
    "nr_sentences=pipe['Listing ID'].count()\n",
    "nr_sentences"
   ]
  },
  {
   "cell_type": "markdown",
   "metadata": {},
   "source": [
    "## Total number of reviews\n",
    "And **59 150** reviews"
   ]
  },
  {
   "cell_type": "code",
   "execution_count": 4,
   "metadata": {
    "collapsed": false
   },
   "outputs": [
    {
     "data": {
      "text/plain": [
       "59150"
      ]
     },
     "execution_count": 4,
     "metadata": {},
     "output_type": "execute_result"
    }
   ],
   "source": [
    "nr=pipe[['Listing ID','Review ID']].groupby('Review ID')\n",
    "dfr=nr.count()\n",
    "nr_reviews=len(dfr.axes[0])\n",
    "nr_reviews"
   ]
  },
  {
   "cell_type": "markdown",
   "metadata": {},
   "source": [
    "## Total number of listings\n",
    "And **2 356** listings which belong to Amsterdam. In the database there are listings of NL and UK. Amsterdam is just a part of them, which I chose for analysis."
   ]
  },
  {
   "cell_type": "code",
   "execution_count": 5,
   "metadata": {
    "collapsed": false
   },
   "outputs": [
    {
     "data": {
      "text/plain": [
       "2356"
      ]
     },
     "execution_count": 5,
     "metadata": {},
     "output_type": "execute_result"
    }
   ],
   "source": [
    "ten=pipe.groupby('Listing ID')\n",
    "total=ten['Review ID'].mean().count()\n",
    "total\n"
   ]
  },
  {
   "cell_type": "markdown",
   "metadata": {},
   "source": [
    "## Average number of reviews per listing \n",
    "A listing can have in average **25.1** reviews"
   ]
  },
  {
   "cell_type": "code",
   "execution_count": 6,
   "metadata": {
    "collapsed": false
   },
   "outputs": [
    {
     "data": {
      "text/plain": [
       "25.106112054329373"
      ]
     },
     "execution_count": 6,
     "metadata": {},
     "output_type": "execute_result"
    }
   ],
   "source": [
    "\n",
    "nr_reviews/total"
   ]
  },
  {
   "cell_type": "markdown",
   "metadata": {},
   "source": [
    "## Average number of sentences per review\n",
    "And a review has in average **5.1** sentences."
   ]
  },
  {
   "cell_type": "code",
   "execution_count": 7,
   "metadata": {
    "collapsed": false
   },
   "outputs": [
    {
     "data": {
      "text/plain": [
       "5.1070329670329668"
      ]
     },
     "execution_count": 7,
     "metadata": {},
     "output_type": "execute_result"
    }
   ],
   "source": [
    "\n",
    "nr_sentences/nr_reviews"
   ]
  },
  {
   "cell_type": "markdown",
   "metadata": {},
   "source": [
    "## Average number of sentences per listing\n",
    "A listings will have in this way an average of **128.2** sentences "
   ]
  },
  {
   "cell_type": "code",
   "execution_count": 8,
   "metadata": {
    "collapsed": false
   },
   "outputs": [
    {
     "data": {
      "text/plain": [
       "128.21774193548387"
      ]
     },
     "execution_count": 8,
     "metadata": {},
     "output_type": "execute_result"
    }
   ],
   "source": [
    "nr_sentences/total"
   ]
  },
  {
   "cell_type": "markdown",
   "metadata": {},
   "source": [
    "## Features mentioned in sentence level\n",
    "The table below shows the frequencies of features measured in sentence level, so \"How many sentences mention that feature?\" This values are also shown by peercentage in comparison with the total number of sentences. This table is visualized in the bar graph, from which we can clearly see that **location** is the most mentioned feature and **check in** the least one. The percentages however are very small in general since the corpus of reviews is very big."
   ]
  },
  {
   "cell_type": "code",
   "execution_count": 9,
   "metadata": {
    "collapsed": false
   },
   "outputs": [
    {
     "data": {
      "text/html": [
       "<div>\n",
       "<table border=\"1\" class=\"dataframe\">\n",
       "  <thead>\n",
       "    <tr style=\"text-align: right;\">\n",
       "      <th></th>\n",
       "      <th>Percentage</th>\n",
       "      <th>Sentences</th>\n",
       "    </tr>\n",
       "  </thead>\n",
       "  <tbody>\n",
       "    <tr>\n",
       "      <th>Accuracy</th>\n",
       "      <td>3.0</td>\n",
       "      <td>8364</td>\n",
       "    </tr>\n",
       "    <tr>\n",
       "      <th>Check-in</th>\n",
       "      <td>2.0</td>\n",
       "      <td>5818</td>\n",
       "    </tr>\n",
       "    <tr>\n",
       "      <th>Cleanliness</th>\n",
       "      <td>6.0</td>\n",
       "      <td>18440</td>\n",
       "    </tr>\n",
       "    <tr>\n",
       "      <th>Communication</th>\n",
       "      <td>6.0</td>\n",
       "      <td>16894</td>\n",
       "    </tr>\n",
       "    <tr>\n",
       "      <th>Location</th>\n",
       "      <td>23.0</td>\n",
       "      <td>69616</td>\n",
       "    </tr>\n",
       "    <tr>\n",
       "      <th>Value</th>\n",
       "      <td>7.0</td>\n",
       "      <td>19862</td>\n",
       "    </tr>\n",
       "  </tbody>\n",
       "</table>\n",
       "</div>"
      ],
      "text/plain": [
       "               Percentage  Sentences\n",
       "Accuracy              3.0       8364\n",
       "Check-in              2.0       5818\n",
       "Cleanliness           6.0      18440\n",
       "Communication         6.0      16894\n",
       "Location             23.0      69616\n",
       "Value                 7.0      19862"
      ]
     },
     "execution_count": 9,
     "metadata": {},
     "output_type": "execute_result"
    }
   ],
   "source": [
    "f1= pipe[pipe['Feature: Accuracy']!=0]\n",
    "f11=f1['Feature: Accuracy'].count()\n",
    "\n",
    "f2= pipe[pipe['Feature: Check-in']!=0]\n",
    "f22=f2['Feature: Check-in'].count()\n",
    "\n",
    "\n",
    "f3= pipe[pipe['Feature: Cleanliness']!=0]\n",
    "f33=f3['Feature: Cleanliness'].count()\n",
    "\n",
    "f4= pipe[pipe['Feature: Communication']!=0]\n",
    "f44=f4['Feature: Communication'].count()\n",
    "\n",
    "f5= pipe[pipe['Feature: Location']!=0]\n",
    "f55=f5['Feature: Location'].count()\n",
    "\n",
    "f6= pipe[pipe['Feature: Value']!=0]\n",
    "f66=f6['Feature: Value'].count()\n",
    "\n",
    "df1 = [{'Sentences' : f11, 'Percentage' : \n",
    "        (f11/nr_sentences).round(2)*100},\n",
    "      { 'Sentences': f22, 'Percentage':\n",
    "       (f22/nr_sentences).round(2)*100},\n",
    "      { 'Sentences' : f33, 'Percentage':\n",
    "       (f33/nr_sentences).round(2)*100},\n",
    "      { 'Sentences' : f44, 'Percentage':\n",
    "       (f44/nr_sentences).round(2)*100},\n",
    "      { 'Sentences':f55, 'Percentage':\n",
    "       (f55/nr_sentences).round(2)*100},\n",
    "      {'Sentences': f66, 'Percentage':\n",
    "       (f66/nr_sentences).round(2)*100}]\n",
    "fin=pd.DataFrame(df1, index=['Accuracy',\n",
    "'Check-in','Cleanliness','Communication','Location','Value'])\n",
    "fin\n"
   ]
  },
  {
   "cell_type": "code",
   "execution_count": 10,
   "metadata": {
    "collapsed": false
   },
   "outputs": [
    {
     "data": {
      "image/png": "[encoded data removed]",
      "text/plain": [
       "<matplotlib.figure.Figure at 0xc624650>"
      ]
     },
     "metadata": {},
     "output_type": "display_data"
    }
   ],
   "source": [
    "a=fin['Percentage'].plot(kind='bar',figsize=(6,4),y='Percentage')\n",
    "plt.axis([-1,6,0,100])\n",
    "a.set_ylabel(\"% of sentences\")\n",
    "a.set_xlabel(\"Features\")\n",
    "plt.show()\n"
   ]
  },
  {
   "cell_type": "markdown",
   "metadata": {},
   "source": [
    "## Features mentioned in review level\n",
    "The analysis above is done this time in review level, meaning \"In how mamny reviews are the features mentioned?\" Here we see the same trend but the results are better representative of the users opinions as explained in the results chapter."
   ]
  },
  {
   "cell_type": "code",
   "execution_count": 11,
   "metadata": {
    "collapsed": false
   },
   "outputs": [
    {
     "data": {
      "text/html": [
       "<div>\n",
       "<table border=\"1\" class=\"dataframe\">\n",
       "  <thead>\n",
       "    <tr style=\"text-align: right;\">\n",
       "      <th></th>\n",
       "      <th>Percentage</th>\n",
       "      <th>Reviews</th>\n",
       "    </tr>\n",
       "  </thead>\n",
       "  <tbody>\n",
       "    <tr>\n",
       "      <th>Accuracy</th>\n",
       "      <td>13.0</td>\n",
       "      <td>7915</td>\n",
       "    </tr>\n",
       "    <tr>\n",
       "      <th>Check-in</th>\n",
       "      <td>9.0</td>\n",
       "      <td>5454</td>\n",
       "    </tr>\n",
       "    <tr>\n",
       "      <th>Cleanliness</th>\n",
       "      <td>30.0</td>\n",
       "      <td>17757</td>\n",
       "    </tr>\n",
       "    <tr>\n",
       "      <th>Communication</th>\n",
       "      <td>25.0</td>\n",
       "      <td>14610</td>\n",
       "    </tr>\n",
       "    <tr>\n",
       "      <th>Location</th>\n",
       "      <td>75.0</td>\n",
       "      <td>44539</td>\n",
       "    </tr>\n",
       "    <tr>\n",
       "      <th>Value</th>\n",
       "      <td>32.0</td>\n",
       "      <td>18811</td>\n",
       "    </tr>\n",
       "  </tbody>\n",
       "</table>\n",
       "</div>"
      ],
      "text/plain": [
       "               Percentage  Reviews\n",
       "Accuracy             13.0     7915\n",
       "Check-in              9.0     5454\n",
       "Cleanliness          30.0    17757\n",
       "Communication        25.0    14610\n",
       "Location             75.0    44539\n",
       "Value                32.0    18811"
      ]
     },
     "execution_count": 11,
     "metadata": {},
     "output_type": "execute_result"
    }
   ],
   "source": [
    "# --------------------------------------------------------------\n",
    "# MOST MENTIONED FEATURE IN REVIEW LEVEL\n",
    "# --------------------------------------------------------------\n",
    "\n",
    "pipe1=pipe[['Review ID','Feature: Accuracy','Feature: Check-in','Feature: Cleanliness','Feature: Communication', 'Feature: Location','Feature: Value']]\n",
    "ac1=pipe1[pipe1['Feature: Accuracy']!=0].groupby('Review ID').mean()\n",
    "ac=ac1['Feature: Accuracy'].count()\n",
    "\n",
    "che1=pipe1[pipe1['Feature: Check-in']!=0].groupby('Review ID').mean()\n",
    "che=che1['Feature: Check-in'].count()\n",
    "\n",
    "cl1=pipe1[pipe1['Feature: Cleanliness']!=0].groupby('Review ID').mean()\n",
    "cl=cl1['Feature: Cleanliness'].count()\n",
    "\n",
    "co1=pipe1[pipe1['Feature: Communication']!=0].groupby('Review ID').mean()\n",
    "co=co1['Feature: Communication'].count()\n",
    "\n",
    "lo1=pipe1[pipe1['Feature: Location']!=0].groupby('Review ID').mean()\n",
    "lo=lo1['Feature: Location'].count()\n",
    "\n",
    "va1=pipe1[pipe1['Feature: Value']!=0].groupby('Review ID').mean()\n",
    "va=va1['Feature: Value'].count()\n",
    "\n",
    "df1 = [{'Reviews' : ac, 'Percentage' : (ac/nr_reviews).round(2)*100},\n",
    "      { 'Reviews': che, 'Percentage':(che/nr_reviews).round(2)*100},\n",
    "      { 'Reviews' : cl, 'Percentage':(cl/nr_reviews).round(2)*100},\n",
    "      { 'Reviews' : co, 'Percentage':(co/nr_reviews).round(2)*100},\n",
    "      { 'Reviews':lo, 'Percentage':(lo/nr_reviews).round(2)*100},\n",
    "      {'Reviews': va, 'Percentage':(va/nr_reviews).round(2)*100}]\n",
    "rev=pd.DataFrame(df1, index=['Accuracy', 'Check-in','Cleanliness',\n",
    "                             'Communication','Location','Value'])\n",
    "rev"
   ]
  },
  {
   "cell_type": "code",
   "execution_count": 12,
   "metadata": {
    "collapsed": false
   },
   "outputs": [
    {
     "data": {
      "image/png": "[encoded data removed]",
      "text/plain": [
       "<matplotlib.figure.Figure at 0xc877710>"
      ]
     },
     "metadata": {},
     "output_type": "display_data"
    }
   ],
   "source": [
    "b=rev['Percentage'].plot(kind='bar',figsize=(6,4))\n",
    "plt.axis([-1,6,0,100])\n",
    "b.set_ylabel(\"% of reviews\")\n",
    "b.set_xlabel(\"Features\")\n",
    "plt.show()"
   ]
  },
  {
   "cell_type": "markdown",
   "metadata": {},
   "source": [
    "## The compound sentiment of features per each listing\n",
    "And sentiment of each feature is calculated, excluding sentences with no sentiment. The sentiment of a feature for a listing is the average sentiment for this feature of the reviews of that listing."
   ]
  },
  {
   "cell_type": "code",
   "execution_count": 13,
   "metadata": {
    "collapsed": false
   },
   "outputs": [],
   "source": [
    "acc1=pipe[pipe['Feature: Accuracy']!=0].groupby('Review ID').mean()[['Listing ID','Feature: Accuracy']]\n",
    "acc=acc1.groupby('Listing ID').mean()\n",
    "\n",
    "chec1=pipe[pipe['Feature: Check-in']!=0].groupby('Review ID').mean()[['Listing ID','Feature: Check-in']]\n",
    "chec=chec1.groupby('Listing ID').mean()\n",
    "\n",
    "cle1=pipe[pipe['Feature: Cleanliness']!=0].groupby('Review ID').mean()[['Listing ID','Feature: Cleanliness']]\n",
    "cle=cle1.groupby('Listing ID').mean()\n",
    "\n",
    "com1=pipe[pipe['Feature: Communication']!=0].groupby('Review ID').mean()[['Listing ID','Feature: Communication']]\n",
    "com=com1.groupby('Listing ID').mean()\n",
    "\n",
    "loc1=pipe[pipe['Feature: Location']!=0].groupby('Review ID').mean()[['Listing ID','Feature: Location']]\n",
    "loc=loc1.groupby('Listing ID').mean()\n",
    "\n",
    "val1=pipe[pipe['Feature: Value']!=0].groupby('Review ID').mean()[['Listing ID','Feature: Value']]\n",
    "val=val1.groupby('Listing ID').mean()\n",
    "\n",
    "frames=[acc,chec,cle,com,loc,val]\n",
    "result=pd.concat(frames,axis=1)"
   ]
  },
  {
   "cell_type": "markdown",
   "metadata": {},
   "source": [
    "## Feature mentioned in listing level\n",
    "The frequency of mentioning the features is measures in listing level, meaning that if a certain feature has a sentiment score for a listing, it is mentioned there at least once. The values are shown in the table and also plotted in the graph. However this is not a reliable measurement as it itakes only one sentence to say that this feature is commented in the listing, while for other listings may be 100 sentences over this feature. "
   ]
  },
  {
   "cell_type": "code",
   "execution_count": 14,
   "metadata": {
    "collapsed": false,
    "scrolled": true
   },
   "outputs": [
    {
     "data": {
      "text/html": [
       "<div>\n",
       "<table border=\"1\" class=\"dataframe\">\n",
       "  <thead>\n",
       "    <tr style=\"text-align: right;\">\n",
       "      <th></th>\n",
       "      <th>Listings</th>\n",
       "      <th>Percentage</th>\n",
       "    </tr>\n",
       "  </thead>\n",
       "  <tbody>\n",
       "    <tr>\n",
       "      <th>Accuracy</th>\n",
       "      <td>1773</td>\n",
       "      <td>75.0</td>\n",
       "    </tr>\n",
       "    <tr>\n",
       "      <th>Check-in</th>\n",
       "      <td>1623</td>\n",
       "      <td>69.0</td>\n",
       "    </tr>\n",
       "    <tr>\n",
       "      <th>Cleanliness</th>\n",
       "      <td>2076</td>\n",
       "      <td>88.0</td>\n",
       "    </tr>\n",
       "    <tr>\n",
       "      <th>Communication</th>\n",
       "      <td>2067</td>\n",
       "      <td>88.0</td>\n",
       "    </tr>\n",
       "    <tr>\n",
       "      <th>Location</th>\n",
       "      <td>2331</td>\n",
       "      <td>99.0</td>\n",
       "    </tr>\n",
       "    <tr>\n",
       "      <th>Value</th>\n",
       "      <td>2145</td>\n",
       "      <td>91.0</td>\n",
       "    </tr>\n",
       "  </tbody>\n",
       "</table>\n",
       "</div>"
      ],
      "text/plain": [
       "               Listings  Percentage\n",
       "Accuracy           1773        75.0\n",
       "Check-in           1623        69.0\n",
       "Cleanliness        2076        88.0\n",
       "Communication      2067        88.0\n",
       "Location           2331        99.0\n",
       "Value              2145        91.0"
      ]
     },
     "execution_count": 14,
     "metadata": {},
     "output_type": "execute_result"
    }
   ],
   "source": [
    "# --------------------------------------------------------------\n",
    "# MOST MENTIONED FEATURE IN LISTING LEVEL\n",
    "# --------------------------------------------------------------\n",
    "\n",
    "a=total-result['Feature: Accuracy'].isnull().sum()\n",
    "b=total-result['Feature: Check-in'].isnull().sum()\n",
    "c=total-result['Feature: Cleanliness'].isnull().sum()\n",
    "d=total-result['Feature: Communication'].isnull().sum()\n",
    "e=total-result['Feature: Location'].isnull().sum()\n",
    "f=total-result['Feature: Value'].isnull().sum()\n",
    "#print 'Accuracy Check-in Cleanliness Communication Location Value'\n",
    "#print a,b,c,d,e,f\n",
    "df3 = [{'Listings' : a, 'Percentage' : (a/total).round(2)*100},\n",
    "      { 'Listings': b, 'Percentage':(b/total).round(2)*100},\n",
    "      { 'Listings' : c, 'Percentage':(c/total).round(2)*100},\n",
    "      { 'Listings' : d, 'Percentage':(d/total).round(2)*100},\n",
    "      { 'Listings':e, 'Percentage':(e/total).round(2)*100},\n",
    "      {'Listings': f, 'Percentage':(f/total).round(2)*100}]\n",
    "final=pd.DataFrame(df3, index=['Accuracy', 'Check-in','Cleanliness','Communication','Location','Value'])\n",
    "final"
   ]
  },
  {
   "cell_type": "code",
   "execution_count": 15,
   "metadata": {
    "collapsed": false
   },
   "outputs": [
    {
     "data": {
      "image/png": "[encoded data removed]",
      "text/plain": [
       "<matplotlib.figure.Figure at 0xc94d030>"
      ]
     },
     "metadata": {},
     "output_type": "display_data"
    }
   ],
   "source": [
    "# Visualization of which feature is most mentioned in the listings\n",
    "\n",
    "c=final['Percentage'].plot(kind='bar',figsize=(6,4),label='Listing level')\n",
    "plt.axis([-1,6,0,100])\n",
    "c.set_ylabel(\"% of listings\")\n",
    "c.set_xlabel(\"Features\")\n",
    "plt.show()"
   ]
  },
  {
   "cell_type": "markdown",
   "metadata": {},
   "source": [
    "## Put together the number of sentences, reviews and listing where features are mentioned"
   ]
  },
  {
   "cell_type": "code",
   "execution_count": 16,
   "metadata": {
    "collapsed": false
   },
   "outputs": [
    {
     "data": {
      "text/html": [
       "<div>\n",
       "<table border=\"1\" class=\"dataframe\">\n",
       "  <thead>\n",
       "    <tr style=\"text-align: right;\">\n",
       "      <th></th>\n",
       "      <th>Sentences</th>\n",
       "      <th>Reviews</th>\n",
       "      <th>Listings</th>\n",
       "    </tr>\n",
       "  </thead>\n",
       "  <tbody>\n",
       "    <tr>\n",
       "      <th>Accuracy</th>\n",
       "      <td>8364</td>\n",
       "      <td>7915</td>\n",
       "      <td>1773</td>\n",
       "    </tr>\n",
       "    <tr>\n",
       "      <th>Check-in</th>\n",
       "      <td>5818</td>\n",
       "      <td>5454</td>\n",
       "      <td>1623</td>\n",
       "    </tr>\n",
       "    <tr>\n",
       "      <th>Cleanliness</th>\n",
       "      <td>18440</td>\n",
       "      <td>17757</td>\n",
       "      <td>2076</td>\n",
       "    </tr>\n",
       "    <tr>\n",
       "      <th>Communication</th>\n",
       "      <td>16894</td>\n",
       "      <td>14610</td>\n",
       "      <td>2067</td>\n",
       "    </tr>\n",
       "    <tr>\n",
       "      <th>Location</th>\n",
       "      <td>69616</td>\n",
       "      <td>44539</td>\n",
       "      <td>2331</td>\n",
       "    </tr>\n",
       "    <tr>\n",
       "      <th>Value</th>\n",
       "      <td>19862</td>\n",
       "      <td>18811</td>\n",
       "      <td>2145</td>\n",
       "    </tr>\n",
       "  </tbody>\n",
       "</table>\n",
       "</div>"
      ],
      "text/plain": [
       "               Sentences  Reviews  Listings\n",
       "Accuracy            8364     7915      1773\n",
       "Check-in            5818     5454      1623\n",
       "Cleanliness        18440    17757      2076\n",
       "Communication      16894    14610      2067\n",
       "Location           69616    44539      2331\n",
       "Value              19862    18811      2145"
      ]
     },
     "execution_count": 16,
     "metadata": {},
     "output_type": "execute_result"
    }
   ],
   "source": [
    "frames=[fin['Sentences'],rev['Reviews'],final['Listings']]\n",
    "pd.concat(frames,axis=1)"
   ]
  },
  {
   "cell_type": "markdown",
   "metadata": {},
   "source": [
    "## How features are mentioned in sentence level per each listing\n",
    "Since we claimed that mentioning a feature's sentiment in listing level is not reliable, the table below shows (for 10 random listing) the numnber of sentences mentioning the feature **Accuracy**. We see that the maximum times mentioned is 20 and and the lowest is only 1. The table also shows the sentiment score of the features for the corresponding listing."
   ]
  },
  {
   "cell_type": "code",
   "execution_count": 17,
   "metadata": {
    "collapsed": false
   },
   "outputs": [
    {
     "data": {
      "text/html": [
       "<div>\n",
       "<table border=\"1\" class=\"dataframe\">\n",
       "  <thead>\n",
       "    <tr style=\"text-align: right;\">\n",
       "      <th></th>\n",
       "      <th>Mentioned</th>\n",
       "      <th>Total</th>\n",
       "      <th>Percentage</th>\n",
       "      <th>Sentiment score</th>\n",
       "    </tr>\n",
       "    <tr>\n",
       "      <th>Listing ID</th>\n",
       "      <th></th>\n",
       "      <th></th>\n",
       "      <th></th>\n",
       "      <th></th>\n",
       "    </tr>\n",
       "  </thead>\n",
       "  <tbody>\n",
       "    <tr>\n",
       "      <th>2818</th>\n",
       "      <td>13.0</td>\n",
       "      <td>749</td>\n",
       "      <td>0.02</td>\n",
       "      <td>0.39</td>\n",
       "    </tr>\n",
       "    <tr>\n",
       "      <th>20168</th>\n",
       "      <td>13.0</td>\n",
       "      <td>362</td>\n",
       "      <td>0.04</td>\n",
       "      <td>0.46</td>\n",
       "    </tr>\n",
       "    <tr>\n",
       "      <th>20818</th>\n",
       "      <td>NaN</td>\n",
       "      <td>23</td>\n",
       "      <td>NaN</td>\n",
       "      <td>NaN</td>\n",
       "    </tr>\n",
       "    <tr>\n",
       "      <th>23651</th>\n",
       "      <td>2.0</td>\n",
       "      <td>203</td>\n",
       "      <td>0.01</td>\n",
       "      <td>0.53</td>\n",
       "    </tr>\n",
       "    <tr>\n",
       "      <th>25488</th>\n",
       "      <td>9.0</td>\n",
       "      <td>289</td>\n",
       "      <td>0.03</td>\n",
       "      <td>0.54</td>\n",
       "    </tr>\n",
       "    <tr>\n",
       "      <th>25489</th>\n",
       "      <td>13.0</td>\n",
       "      <td>450</td>\n",
       "      <td>0.03</td>\n",
       "      <td>0.38</td>\n",
       "    </tr>\n",
       "    <tr>\n",
       "      <th>27886</th>\n",
       "      <td>1.0</td>\n",
       "      <td>120</td>\n",
       "      <td>0.01</td>\n",
       "      <td>0.31</td>\n",
       "    </tr>\n",
       "    <tr>\n",
       "      <th>102107</th>\n",
       "      <td>2.0</td>\n",
       "      <td>161</td>\n",
       "      <td>0.01</td>\n",
       "      <td>0.63</td>\n",
       "    </tr>\n",
       "    <tr>\n",
       "      <th>105074</th>\n",
       "      <td>20.0</td>\n",
       "      <td>505</td>\n",
       "      <td>0.04</td>\n",
       "      <td>0.40</td>\n",
       "    </tr>\n",
       "    <tr>\n",
       "      <th>105546</th>\n",
       "      <td>3.0</td>\n",
       "      <td>287</td>\n",
       "      <td>0.01</td>\n",
       "      <td>0.44</td>\n",
       "    </tr>\n",
       "  </tbody>\n",
       "</table>\n",
       "</div>"
      ],
      "text/plain": [
       "            Mentioned  Total  Percentage  Sentiment score\n",
       "Listing ID                                               \n",
       "2818             13.0    749        0.02             0.39\n",
       "20168            13.0    362        0.04             0.46\n",
       "20818             NaN     23         NaN              NaN\n",
       "23651             2.0    203        0.01             0.53\n",
       "25488             9.0    289        0.03             0.54\n",
       "25489            13.0    450        0.03             0.38\n",
       "27886             1.0    120        0.01             0.31\n",
       "102107            2.0    161        0.01             0.63\n",
       "105074           20.0    505        0.04             0.40\n",
       "105546            3.0    287        0.01             0.44"
      ]
     },
     "execution_count": 17,
     "metadata": {},
     "output_type": "execute_result"
    }
   ],
   "source": [
    "# ---------------------------------------------------------\n",
    "# FEATURE ACCURACY MENTIONED IN SENTENCE LEVEL PER LISTING\n",
    "# ---------------------------------------------------------\n",
    "\n",
    "bo=pipe[pipe['Feature: Accuracy']!=0].groupby('Listing ID')['Feature: Accuracy']\n",
    "boo=pipe.groupby('Listing ID')['Feature: Accuracy']\n",
    "a = bo.count().rename(\"Sentences mentioned\")\n",
    "b = boo.count().rename(\"Sentences total\")\n",
    "acc1=pipe[pipe['Feature: Accuracy']!=0].groupby('Review ID').mean()[['Listing ID','Feature: Accuracy']]\n",
    "acc=acc1.groupby('Listing ID').mean().round(2)\n",
    "perc = (a/b).round(2).rename(\"Percentage\")\n",
    "rez = pd.concat([a,b,perc,acc],axis=1)\n",
    "rez.columns=['Mentioned','Total','Percentage','Sentiment score']\n",
    "rez[:10]"
   ]
  },
  {
   "cell_type": "markdown",
   "metadata": {},
   "source": [
    "The same analysis as above is done for feature **location**"
   ]
  },
  {
   "cell_type": "code",
   "execution_count": 18,
   "metadata": {
    "collapsed": false
   },
   "outputs": [
    {
     "data": {
      "text/html": [
       "<div>\n",
       "<table border=\"1\" class=\"dataframe\">\n",
       "  <thead>\n",
       "    <tr style=\"text-align: right;\">\n",
       "      <th></th>\n",
       "      <th>Mentioned</th>\n",
       "      <th>Total</th>\n",
       "      <th>Percentage</th>\n",
       "      <th>Sentiment score</th>\n",
       "    </tr>\n",
       "    <tr>\n",
       "      <th>Listing ID</th>\n",
       "      <th></th>\n",
       "      <th></th>\n",
       "      <th></th>\n",
       "      <th></th>\n",
       "    </tr>\n",
       "  </thead>\n",
       "  <tbody>\n",
       "    <tr>\n",
       "      <th>2818</th>\n",
       "      <td>144.0</td>\n",
       "      <td>749</td>\n",
       "      <td>0.19</td>\n",
       "      <td>0.43</td>\n",
       "    </tr>\n",
       "    <tr>\n",
       "      <th>20168</th>\n",
       "      <td>80.0</td>\n",
       "      <td>362</td>\n",
       "      <td>0.22</td>\n",
       "      <td>0.50</td>\n",
       "    </tr>\n",
       "    <tr>\n",
       "      <th>20818</th>\n",
       "      <td>4.0</td>\n",
       "      <td>23</td>\n",
       "      <td>0.17</td>\n",
       "      <td>0.67</td>\n",
       "    </tr>\n",
       "    <tr>\n",
       "      <th>23651</th>\n",
       "      <td>35.0</td>\n",
       "      <td>203</td>\n",
       "      <td>0.17</td>\n",
       "      <td>0.55</td>\n",
       "    </tr>\n",
       "    <tr>\n",
       "      <th>25488</th>\n",
       "      <td>66.0</td>\n",
       "      <td>289</td>\n",
       "      <td>0.23</td>\n",
       "      <td>0.49</td>\n",
       "    </tr>\n",
       "    <tr>\n",
       "      <th>25489</th>\n",
       "      <td>71.0</td>\n",
       "      <td>450</td>\n",
       "      <td>0.16</td>\n",
       "      <td>0.60</td>\n",
       "    </tr>\n",
       "    <tr>\n",
       "      <th>27886</th>\n",
       "      <td>19.0</td>\n",
       "      <td>120</td>\n",
       "      <td>0.16</td>\n",
       "      <td>0.69</td>\n",
       "    </tr>\n",
       "    <tr>\n",
       "      <th>102107</th>\n",
       "      <td>41.0</td>\n",
       "      <td>161</td>\n",
       "      <td>0.25</td>\n",
       "      <td>0.57</td>\n",
       "    </tr>\n",
       "    <tr>\n",
       "      <th>105074</th>\n",
       "      <td>118.0</td>\n",
       "      <td>505</td>\n",
       "      <td>0.23</td>\n",
       "      <td>0.50</td>\n",
       "    </tr>\n",
       "    <tr>\n",
       "      <th>105546</th>\n",
       "      <td>52.0</td>\n",
       "      <td>287</td>\n",
       "      <td>0.18</td>\n",
       "      <td>0.43</td>\n",
       "    </tr>\n",
       "  </tbody>\n",
       "</table>\n",
       "</div>"
      ],
      "text/plain": [
       "            Mentioned  Total  Percentage  Sentiment score\n",
       "Listing ID                                               \n",
       "2818            144.0    749        0.19             0.43\n",
       "20168            80.0    362        0.22             0.50\n",
       "20818             4.0     23        0.17             0.67\n",
       "23651            35.0    203        0.17             0.55\n",
       "25488            66.0    289        0.23             0.49\n",
       "25489            71.0    450        0.16             0.60\n",
       "27886            19.0    120        0.16             0.69\n",
       "102107           41.0    161        0.25             0.57\n",
       "105074          118.0    505        0.23             0.50\n",
       "105546           52.0    287        0.18             0.43"
      ]
     },
     "execution_count": 18,
     "metadata": {},
     "output_type": "execute_result"
    }
   ],
   "source": [
    "# -------------------------------------------------------------------------------------\n",
    "# FEATURE LOCATION MENTIONED IN SENTENCE LEVEL PER LISTING\n",
    "# -------------------------------------------------------------------------------------\n",
    "\n",
    "lbo=pipe[pipe['Feature: Location']!=0].groupby('Listing ID')['Feature: Location']\n",
    "lboo=pipe.groupby('Listing ID')['Feature: Location']\n",
    "la = lbo.count().rename(\"Sentences mentioned\")\n",
    "lb = lboo.count().rename(\"Sentences total\")\n",
    "lperc = (la/lb).round(2).rename(\"Percentage\")\n",
    "loc1=pipe[pipe['Feature: Location']!=0].groupby('Review ID').mean()[['Listing ID','Feature: Location']]\n",
    "loc=loc1.groupby('Listing ID').mean().round(2)\n",
    "rez_loc=pd.concat([la,lb,lperc,loc],axis=1)\n",
    "rez_loc.columns=['Mentioned','Total', 'Percentage','Sentiment score']\n",
    "rez_loc[:10]"
   ]
  },
  {
   "cell_type": "markdown",
   "metadata": {},
   "source": [
    "## Features mentioned in review level per each listing\n",
    "The table below shows (for 5 random listing) the numnber of reviews mentioning the feature **Accuracy**. We see that the maximum times mentioned is 12 and and the lowest is 2. The table also shows the sentiment score of the features for the corresponding listing."
   ]
  },
  {
   "cell_type": "code",
   "execution_count": 19,
   "metadata": {
    "collapsed": false,
    "scrolled": true
   },
   "outputs": [
    {
     "data": {
      "text/html": [
       "<div>\n",
       "<table border=\"1\" class=\"dataframe\">\n",
       "  <thead>\n",
       "    <tr style=\"text-align: right;\">\n",
       "      <th></th>\n",
       "      <th>Mentioned</th>\n",
       "      <th>Total</th>\n",
       "      <th>Percentage</th>\n",
       "      <th>Sentiment score</th>\n",
       "    </tr>\n",
       "    <tr>\n",
       "      <th>Listing ID</th>\n",
       "      <th></th>\n",
       "      <th></th>\n",
       "      <th></th>\n",
       "      <th></th>\n",
       "    </tr>\n",
       "  </thead>\n",
       "  <tbody>\n",
       "    <tr>\n",
       "      <th>2818</th>\n",
       "      <td>12.0</td>\n",
       "      <td>123</td>\n",
       "      <td>0.10</td>\n",
       "      <td>0.39</td>\n",
       "    </tr>\n",
       "    <tr>\n",
       "      <th>20168</th>\n",
       "      <td>12.0</td>\n",
       "      <td>77</td>\n",
       "      <td>0.16</td>\n",
       "      <td>0.46</td>\n",
       "    </tr>\n",
       "    <tr>\n",
       "      <th>20818</th>\n",
       "      <td>NaN</td>\n",
       "      <td>4</td>\n",
       "      <td>NaN</td>\n",
       "      <td>NaN</td>\n",
       "    </tr>\n",
       "    <tr>\n",
       "      <th>23651</th>\n",
       "      <td>2.0</td>\n",
       "      <td>36</td>\n",
       "      <td>0.06</td>\n",
       "      <td>0.53</td>\n",
       "    </tr>\n",
       "    <tr>\n",
       "      <th>25488</th>\n",
       "      <td>9.0</td>\n",
       "      <td>69</td>\n",
       "      <td>0.13</td>\n",
       "      <td>0.54</td>\n",
       "    </tr>\n",
       "  </tbody>\n",
       "</table>\n",
       "</div>"
      ],
      "text/plain": [
       "            Mentioned  Total  Percentage  Sentiment score\n",
       "Listing ID                                               \n",
       "2818             12.0    123        0.10             0.39\n",
       "20168            12.0     77        0.16             0.46\n",
       "20818             NaN      4         NaN              NaN\n",
       "23651             2.0     36        0.06             0.53\n",
       "25488             9.0     69        0.13             0.54"
      ]
     },
     "execution_count": 19,
     "metadata": {},
     "output_type": "execute_result"
    }
   ],
   "source": [
    "# -------------------------------------------------------------------------------------\n",
    "# FEATURE ACCURACY MENTIONED IN REVIEW LEVEL PER LISTING\n",
    "# -------------------------------------------------------------------------------------\n",
    "\n",
    "aaa=pipe[pipe['Feature: Accuracy']!=0].groupby('Review ID').mean()\n",
    "ac=aaa.groupby('Listing ID')\n",
    "revac=ac['Feature: Accuracy'].count().rename(\"Reviews mentioned\")\n",
    "bbb=pipe.groupby('Review ID').mean()\n",
    "ab=bbb.groupby('Listing ID')\n",
    "revtot=ab['Feature: Accuracy'].count().rename(\"Reviews total\")\n",
    "acc1=pipe[pipe['Feature: Accuracy']!=0].groupby('Review ID').mean()[['Listing ID','Feature: Accuracy']]\n",
    "acc=acc1.groupby('Listing ID').mean().round(2)\n",
    "pe = (revac/revtot).round(2).rename(\"Percentage\")\n",
    "pea=pd.concat([revac,revtot,pe,acc],axis=1)\n",
    "pea.columns=['Mentioned','Total','Percentage',\n",
    "             'Sentiment score']\n",
    "pea[:5]"
   ]
  },
  {
   "cell_type": "code",
   "execution_count": 20,
   "metadata": {
    "collapsed": false
   },
   "outputs": [
    {
     "data": {
      "text/html": [
       "<div>\n",
       "<table border=\"1\" class=\"dataframe\">\n",
       "  <thead>\n",
       "    <tr style=\"text-align: right;\">\n",
       "      <th></th>\n",
       "      <th>Mentioned</th>\n",
       "      <th>Total</th>\n",
       "      <th>Mentioned</th>\n",
       "      <th>Sentiment score</th>\n",
       "    </tr>\n",
       "    <tr>\n",
       "      <th>Listing ID</th>\n",
       "      <th></th>\n",
       "      <th></th>\n",
       "      <th></th>\n",
       "      <th></th>\n",
       "    </tr>\n",
       "  </thead>\n",
       "  <tbody>\n",
       "    <tr>\n",
       "      <th>2818</th>\n",
       "      <td>88.0</td>\n",
       "      <td>123</td>\n",
       "      <td>0.72</td>\n",
       "      <td>0.43</td>\n",
       "    </tr>\n",
       "    <tr>\n",
       "      <th>20168</th>\n",
       "      <td>63.0</td>\n",
       "      <td>77</td>\n",
       "      <td>0.82</td>\n",
       "      <td>0.50</td>\n",
       "    </tr>\n",
       "    <tr>\n",
       "      <th>20818</th>\n",
       "      <td>3.0</td>\n",
       "      <td>4</td>\n",
       "      <td>0.75</td>\n",
       "      <td>0.67</td>\n",
       "    </tr>\n",
       "    <tr>\n",
       "      <th>23651</th>\n",
       "      <td>22.0</td>\n",
       "      <td>36</td>\n",
       "      <td>0.61</td>\n",
       "      <td>0.55</td>\n",
       "    </tr>\n",
       "    <tr>\n",
       "      <th>25488</th>\n",
       "      <td>45.0</td>\n",
       "      <td>69</td>\n",
       "      <td>0.65</td>\n",
       "      <td>0.49</td>\n",
       "    </tr>\n",
       "  </tbody>\n",
       "</table>\n",
       "</div>"
      ],
      "text/plain": [
       "            Mentioned  Total  Mentioned  Sentiment score\n",
       "Listing ID                                              \n",
       "2818             88.0    123       0.72             0.43\n",
       "20168            63.0     77       0.82             0.50\n",
       "20818             3.0      4       0.75             0.67\n",
       "23651            22.0     36       0.61             0.55\n",
       "25488            45.0     69       0.65             0.49"
      ]
     },
     "execution_count": 20,
     "metadata": {},
     "output_type": "execute_result"
    }
   ],
   "source": [
    "# -------------------------------------------------------------------------------------\n",
    "# FEATURE LOCATION MENTIONED IN REVIEW LEVEL PER LISTING\n",
    "# -------------------------------------------------------------------------------------\n",
    "\n",
    "aaa=pipe[pipe['Feature: Location']!=0].groupby('Review ID').mean()\n",
    "ac=aaa.groupby('Listing ID')\n",
    "revac=ac['Feature: Location'].count().rename(\"Reviews mentioned\")\n",
    "bbb=pipe.groupby('Review ID').mean()\n",
    "ab=bbb.groupby('Listing ID')\n",
    "revtot=ab['Feature: Location'].count().rename(\"Reviews total\")\n",
    "acc1=pipe[pipe['Feature: Location']!=0].groupby('Review ID').mean()[['Listing ID','Feature: Location']]\n",
    "acc=acc1.groupby('Listing ID').mean().round(2)\n",
    "pe = (revac/revtot).round(2).rename(\"Percentage\")\n",
    "lo=pd.concat([revac,revtot,pe,acc],axis=1)\n",
    "lo.columns=['Mentioned','Total','Mentioned',\n",
    "            'Sentiment score']\n",
    "lo[:5]"
   ]
  },
  {
   "cell_type": "markdown",
   "metadata": {},
   "source": [
    "## ALL features mentioned in review level per listing and the corrensponding sentiment \n",
    "The two graphs below are explained in the \"Results\" chapter. The first one shows the number of reviews that mention each of the features per listing and also the total number of reviews per listing. We see that some listing have many reviews and some don't. What is important is the comparison with the second graph, which shows the sentiment scores of all the features and the overall sentiment score for the same 10 random listings. A customer has to pay attention to not only choose the listing with the highest sentiment but also with high number of reviews, so a trade-off exists between the two measures."
   ]
  },
  {
   "cell_type": "code",
   "execution_count": 22,
   "metadata": {
    "collapsed": false
   },
   "outputs": [
    {
     "data": {
      "text/plain": [
       "<matplotlib.text.Text at 0x13f0a570>"
      ]
     },
     "execution_count": 22,
     "metadata": {},
     "output_type": "execute_result"
    },
    {
     "data": {
      "image/png": "[encoded data removed]",
      "text/plain": [
       "<matplotlib.figure.Figure at 0xef13c50>"
      ]
     },
     "metadata": {},
     "output_type": "display_data"
    },
    {
     "data": {
      "image/png": "[encoded data removed]",
      "text/plain": [
       "<matplotlib.figure.Figure at 0x13eff8d0>"
      ]
     },
     "metadata": {},
     "output_type": "display_data"
    }
   ],
   "source": [
    "# -------------------------------------------------------------------------------------\n",
    "# ALL FEATURES MENTIONED IN REVIEW LEVEL PER LISTING\n",
    "# -------------------------------------------------------------------------------------\n",
    "\n",
    "a1=pipe[pipe['Feature: Accuracy']!=0].groupby('Review ID').mean()\n",
    "b1=a1.groupby('Listing ID')\n",
    "r1=b1['Feature: Accuracy'].count().rename(\"Accuracy\")\n",
    "\n",
    "a2=pipe[pipe['Feature: Location']!=0].groupby('Review ID').mean()\n",
    "b2=a2.groupby('Listing ID')\n",
    "r2=b2['Feature: Location'].count().rename(\"Location\")\n",
    "\n",
    "a3=pipe[pipe['Feature: Communication']!=0].groupby('Review ID').mean()\n",
    "b3=a3.groupby('Listing ID')\n",
    "r3=b3['Feature: Communication'].count().rename(\"Communication\")\n",
    "\n",
    "a4=pipe[pipe['Feature: Check-in']!=0].groupby('Review ID').mean()\n",
    "b4=a4.groupby('Listing ID')\n",
    "r4=b4['Feature: Check-in'].count().rename(\"Check-in\")\n",
    "\n",
    "a5=pipe[pipe['Feature: Cleanliness']!=0].groupby('Review ID').mean()\n",
    "b5=a5.groupby('Listing ID')\n",
    "r5=b5['Feature: Cleanliness'].count().rename(\"Cleanliness\")\n",
    "\n",
    "a6=pipe[pipe['Feature: Value']!=0].groupby('Review ID').mean()\n",
    "b6=a6.groupby('Listing ID')\n",
    "r6=b6['Feature: Value'].count().rename(\"Value\")\n",
    "\n",
    "bbb=pipe.groupby('Review ID').mean()\n",
    "ab=bbb.groupby('Listing ID')\n",
    "revtot=ab['Feature: Accuracy'].count().rename(\"Reviews total\")\n",
    "d=pd.concat([r1,r2,r3,r4,r5,r6,revtot],axis=1)[:10].plot(kind='bar',\n",
    "                                              figsize=(15,6))\n",
    "d.set_ylabel(\"# of reviews\")\n",
    "\n",
    "sent = pipe[pipe['Sentiment score']!=0].copy()[['Listing ID','Sentiment score']]\n",
    "sentiment=sent.groupby('Listing ID').mean()\n",
    "e=pd.concat([result,sentiment],axis=1)[:10].plot(kind='bar'\n",
    "                ,figsize=(15,6),legend=False)\n",
    "e.set_ylabel(\"Sentiment score\")\n"
   ]
  },
  {
   "cell_type": "code",
   "execution_count": null,
   "metadata": {
    "collapsed": true
   },
   "outputs": [],
   "source": []
  }
 ],
 "metadata": {
  "kernelspec": {
   "display_name": "Python 2",
   "language": "python",
   "name": "python2"
  },
  "language_info": {
   "codemirror_mode": {
    "name": "ipython",
    "version": 2
   },
   "file_extension": ".py",
   "mimetype": "text/x-python",
   "name": "python",
   "nbconvert_exporter": "python",
   "pygments_lexer": "ipython2",
   "version": "2.7.11"
  }
 },
 "nbformat": 4,
 "nbformat_minor": 0
}
