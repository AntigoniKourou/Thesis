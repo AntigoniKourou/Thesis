{
 "cells": [
  {
   "cell_type": "code",
   "execution_count": 1,
   "metadata": {
    "collapsed": false
   },
   "outputs": [
    {
     "name": "stderr",
     "output_type": "stream",
     "text": [
      "c:\\python27\\lib\\site-packages\\IPython\\core\\interactiveshell.py:2885: FutureWarning: \n",
      "mpl_style had been deprecated and will be removed in a future version.\n",
      "Use `matplotlib.pyplot.style.use` instead.\n",
      "\n",
      "  exec(code_obj, self.user_global_ns, self.user_ns)\n"
     ]
    }
   ],
   "source": [
    "\n",
    "%matplotlib inline\n",
    "\n",
    "import pandas as pd\n",
    "import matplotlib.pyplot as plt\n",
    "import numpy as np\n",
    "from __future__ import division\n",
    "\n",
    "pd.set_option('display.mpl_style', 'default') # Make the graphs a bit prettier\n",
    "plt.rcParams['figure.figsize'] = (15, 5)\n",
    "plt.rcParams['font.family'] = 'sans-serif'\n",
    "\n",
    "# This is necessary to show lots of columns in pandas 0.12. \n",
    "# Not necessary in pandas 0.13.\n",
    "pd.set_option('display.width', 5000) \n",
    "pd.set_option('display.max_columns', 60)"
   ]
  },
  {
   "cell_type": "code",
   "execution_count": 5,
   "metadata": {
    "collapsed": true
   },
   "outputs": [],
   "source": [
    "pipe = pd.read_csv('C:/Python27/output_improved.csv')[['Listing ID','Review ID','Feature: Accuracy','Feature: Check-in','Feature: Cleanliness','Feature: Communication','Feature: Location','Feature: Value']]"
   ]
  },
  {
   "cell_type": "code",
   "execution_count": 16,
   "metadata": {
    "collapsed": false
   },
   "outputs": [
    {
     "data": {
      "text/html": [
       "<div>\n",
       "<table border=\"1\" class=\"dataframe\">\n",
       "  <thead>\n",
       "    <tr style=\"text-align: right;\">\n",
       "      <th></th>\n",
       "      <th>Listing ID</th>\n",
       "      <th>Review ID</th>\n",
       "      <th>Feature: Accuracy</th>\n",
       "      <th>Feature: Check-in</th>\n",
       "      <th>Feature: Cleanliness</th>\n",
       "      <th>Feature: Communication</th>\n",
       "      <th>Feature: Location</th>\n",
       "      <th>Feature: Value</th>\n",
       "    </tr>\n",
       "  </thead>\n",
       "  <tbody>\n",
       "    <tr>\n",
       "      <th>0</th>\n",
       "      <td>2016324</td>\n",
       "      <td>43983275</td>\n",
       "      <td>0.0</td>\n",
       "      <td>0.000000</td>\n",
       "      <td>0.0</td>\n",
       "      <td>0.0</td>\n",
       "      <td>0.761395</td>\n",
       "      <td>0.0</td>\n",
       "    </tr>\n",
       "    <tr>\n",
       "      <th>1</th>\n",
       "      <td>2016324</td>\n",
       "      <td>43983275</td>\n",
       "      <td>0.0</td>\n",
       "      <td>0.273213</td>\n",
       "      <td>0.0</td>\n",
       "      <td>0.0</td>\n",
       "      <td>0.000000</td>\n",
       "      <td>0.0</td>\n",
       "    </tr>\n",
       "    <tr>\n",
       "      <th>2</th>\n",
       "      <td>2016324</td>\n",
       "      <td>43983275</td>\n",
       "      <td>0.0</td>\n",
       "      <td>0.000000</td>\n",
       "      <td>0.0</td>\n",
       "      <td>0.0</td>\n",
       "      <td>0.835976</td>\n",
       "      <td>0.0</td>\n",
       "    </tr>\n",
       "    <tr>\n",
       "      <th>3</th>\n",
       "      <td>2016324</td>\n",
       "      <td>43983275</td>\n",
       "      <td>0.0</td>\n",
       "      <td>0.000000</td>\n",
       "      <td>0.0</td>\n",
       "      <td>0.0</td>\n",
       "      <td>0.000000</td>\n",
       "      <td>0.0</td>\n",
       "    </tr>\n",
       "    <tr>\n",
       "      <th>4</th>\n",
       "      <td>2016324</td>\n",
       "      <td>43983275</td>\n",
       "      <td>0.0</td>\n",
       "      <td>0.000000</td>\n",
       "      <td>0.0</td>\n",
       "      <td>0.0</td>\n",
       "      <td>0.000000</td>\n",
       "      <td>0.0</td>\n",
       "    </tr>\n",
       "    <tr>\n",
       "      <th>5</th>\n",
       "      <td>2016324</td>\n",
       "      <td>43983275</td>\n",
       "      <td>0.0</td>\n",
       "      <td>0.000000</td>\n",
       "      <td>0.0</td>\n",
       "      <td>0.0</td>\n",
       "      <td>0.000000</td>\n",
       "      <td>0.0</td>\n",
       "    </tr>\n",
       "    <tr>\n",
       "      <th>6</th>\n",
       "      <td>2016324</td>\n",
       "      <td>43983275</td>\n",
       "      <td>0.0</td>\n",
       "      <td>0.000000</td>\n",
       "      <td>0.0</td>\n",
       "      <td>0.0</td>\n",
       "      <td>0.000000</td>\n",
       "      <td>0.0</td>\n",
       "    </tr>\n",
       "    <tr>\n",
       "      <th>7</th>\n",
       "      <td>2016430</td>\n",
       "      <td>12043319</td>\n",
       "      <td>0.0</td>\n",
       "      <td>0.000000</td>\n",
       "      <td>0.0</td>\n",
       "      <td>0.0</td>\n",
       "      <td>0.000000</td>\n",
       "      <td>0.0</td>\n",
       "    </tr>\n",
       "    <tr>\n",
       "      <th>8</th>\n",
       "      <td>2016430</td>\n",
       "      <td>12043319</td>\n",
       "      <td>0.0</td>\n",
       "      <td>0.000000</td>\n",
       "      <td>0.0</td>\n",
       "      <td>0.0</td>\n",
       "      <td>0.000000</td>\n",
       "      <td>0.0</td>\n",
       "    </tr>\n",
       "    <tr>\n",
       "      <th>9</th>\n",
       "      <td>2016430</td>\n",
       "      <td>12043319</td>\n",
       "      <td>0.0</td>\n",
       "      <td>0.000000</td>\n",
       "      <td>0.0</td>\n",
       "      <td>0.0</td>\n",
       "      <td>0.000000</td>\n",
       "      <td>0.0</td>\n",
       "    </tr>\n",
       "  </tbody>\n",
       "</table>\n",
       "</div>"
      ],
      "text/plain": [
       "   Listing ID  Review ID  Feature: Accuracy  Feature: Check-in  Feature: Cleanliness  Feature: Communication  Feature: Location  Feature: Value\n",
       "0     2016324   43983275                0.0           0.000000                   0.0                     0.0           0.761395             0.0\n",
       "1     2016324   43983275                0.0           0.273213                   0.0                     0.0           0.000000             0.0\n",
       "2     2016324   43983275                0.0           0.000000                   0.0                     0.0           0.835976             0.0\n",
       "3     2016324   43983275                0.0           0.000000                   0.0                     0.0           0.000000             0.0\n",
       "4     2016324   43983275                0.0           0.000000                   0.0                     0.0           0.000000             0.0\n",
       "5     2016324   43983275                0.0           0.000000                   0.0                     0.0           0.000000             0.0\n",
       "6     2016324   43983275                0.0           0.000000                   0.0                     0.0           0.000000             0.0\n",
       "7     2016430   12043319                0.0           0.000000                   0.0                     0.0           0.000000             0.0\n",
       "8     2016430   12043319                0.0           0.000000                   0.0                     0.0           0.000000             0.0\n",
       "9     2016430   12043319                0.0           0.000000                   0.0                     0.0           0.000000             0.0"
      ]
     },
     "execution_count": 16,
     "metadata": {},
     "output_type": "execute_result"
    }
   ],
   "source": [
    "pipe[:10]"
   ]
  },
  {
   "cell_type": "code",
   "execution_count": 128,
   "metadata": {
    "collapsed": false
   },
   "outputs": [],
   "source": [
    "ten=pipe.groupby('Listing ID')"
   ]
  },
  {
   "cell_type": "code",
   "execution_count": 129,
   "metadata": {
    "collapsed": false
   },
   "outputs": [
    {
     "data": {
      "text/plain": [
       "Listing ID  Review ID\n",
       "2818        20503978     31\n",
       "            20302184     28\n",
       "            16263344     17\n",
       "            214718       14\n",
       "            25881134     14\n",
       "            48766        11\n",
       "            260298       11\n",
       "            1475433      11\n",
       "            20096728     11\n",
       "            33353330     11\n",
       "            62552        10\n",
       "            53269669     10\n",
       "            31154         9\n",
       "            94243         9\n",
       "            97728         9\n",
       "            105516        9\n",
       "            194298        9\n",
       "            196836        9\n",
       "            341388        9\n",
       "            510827        9\n",
       "            1194128       9\n",
       "            1872771       9\n",
       "            20832438      9\n",
       "            46271841      9\n",
       "            47034916      9\n",
       "            1989          8\n",
       "            369637        8\n",
       "            1191          7\n",
       "            58048         7\n",
       "            73222         7\n",
       "                         ..\n",
       "3986654     27062632      7\n",
       "            19255559      4\n",
       "            29254899      4\n",
       "3990045     32403969      3\n",
       "3990282     29186964      3\n",
       "            32598855      2\n",
       "3990724     29221575     16\n",
       "            33028701      9\n",
       "            30460811      7\n",
       "            57968854      7\n",
       "            30037333      6\n",
       "            37796521      6\n",
       "            47258658      6\n",
       "            29580871      5\n",
       "            29798313      5\n",
       "            39832935      5\n",
       "            58637940      5\n",
       "            62183449      5\n",
       "            30903884      4\n",
       "            44563836      4\n",
       "            51335663      4\n",
       "            33932156      3\n",
       "            62574506      3\n",
       "            30894591      2\n",
       "            31328195      2\n",
       "            33383248      2\n",
       "            41393461      2\n",
       "            45340108      2\n",
       "            46326321      2\n",
       "            61821009      1\n",
       "Name: Review ID, dtype: int64"
      ]
     },
     "execution_count": 129,
     "metadata": {},
     "output_type": "execute_result"
    }
   ],
   "source": [
    "# Rank listings according to the number of reviews\n",
    "# We see that max nr of reviews = 275 and min=1 \n",
    "# Not solved anymore\n",
    "\n",
    "b=ten['Review ID'].value_counts()\n",
    "b"
   ]
  },
  {
   "cell_type": "code",
   "execution_count": 137,
   "metadata": {
    "collapsed": false
   },
   "outputs": [
    {
     "data": {
      "text/plain": [
       "2334"
      ]
     },
     "execution_count": 137,
     "metadata": {},
     "output_type": "execute_result"
    }
   ],
   "source": [
    "total=ten['Review ID'].mean().count()\n",
    "total"
   ]
  },
  {
   "cell_type": "code",
   "execution_count": 127,
   "metadata": {
    "collapsed": false
   },
   "outputs": [
    {
     "data": {
      "text/plain": [
       "102.32519280205655"
      ]
     },
     "execution_count": 127,
     "metadata": {},
     "output_type": "execute_result"
    }
   ],
   "source": [
    "# Rank listings according to the number of reviews\n",
    "# We see that max nr of reviews = 275 and min=1\n",
    "b=ten['Listing ID'].value_counts()\n",
    "b.mean()"
   ]
  },
  {
   "cell_type": "code",
   "execution_count": 25,
   "metadata": {
    "collapsed": false
   },
   "outputs": [
    {
     "data": {
      "text/plain": [
       "20.0"
      ]
     },
     "execution_count": 25,
     "metadata": {},
     "output_type": "execute_result"
    }
   ],
   "source": [
    "# Average number of reviews is 20. Get the average and round it to the closest integer\n",
    "\n",
    "b.mean().round(0)"
   ]
  },
  {
   "cell_type": "code",
   "execution_count": 53,
   "metadata": {
    "collapsed": false
   },
   "outputs": [
    {
     "data": {
      "text/html": [
       "<div>\n",
       "<table border=\"1\" class=\"dataframe\">\n",
       "  <thead>\n",
       "    <tr style=\"text-align: right;\">\n",
       "      <th></th>\n",
       "      <th>Feature: Accuracy</th>\n",
       "      <th>Feature: Check-in</th>\n",
       "      <th>Feature: Cleanliness</th>\n",
       "      <th>Feature: Communication</th>\n",
       "      <th>Feature: Location</th>\n",
       "      <th>Feature: Value</th>\n",
       "    </tr>\n",
       "    <tr>\n",
       "      <th>Listing ID</th>\n",
       "      <th></th>\n",
       "      <th></th>\n",
       "      <th></th>\n",
       "      <th></th>\n",
       "      <th></th>\n",
       "      <th></th>\n",
       "    </tr>\n",
       "  </thead>\n",
       "  <tbody>\n",
       "    <tr>\n",
       "      <th>2818</th>\n",
       "      <td>0.393159</td>\n",
       "      <td>0.275906</td>\n",
       "      <td>0.499541</td>\n",
       "      <td>0.475244</td>\n",
       "      <td>0.433244</td>\n",
       "      <td>0.415081</td>\n",
       "    </tr>\n",
       "    <tr>\n",
       "      <th>3209</th>\n",
       "      <td>0.306186</td>\n",
       "      <td>NaN</td>\n",
       "      <td>0.925092</td>\n",
       "      <td>0.868943</td>\n",
       "      <td>0.448174</td>\n",
       "      <td>0.180579</td>\n",
       "    </tr>\n",
       "    <tr>\n",
       "      <th>20168</th>\n",
       "      <td>0.458665</td>\n",
       "      <td>0.271084</td>\n",
       "      <td>0.494754</td>\n",
       "      <td>0.344864</td>\n",
       "      <td>0.498637</td>\n",
       "      <td>0.430184</td>\n",
       "    </tr>\n",
       "    <tr>\n",
       "      <th>20818</th>\n",
       "      <td>NaN</td>\n",
       "      <td>0.220217</td>\n",
       "      <td>NaN</td>\n",
       "      <td>NaN</td>\n",
       "      <td>0.668266</td>\n",
       "      <td>NaN</td>\n",
       "    </tr>\n",
       "    <tr>\n",
       "      <th>23651</th>\n",
       "      <td>0.527225</td>\n",
       "      <td>0.565900</td>\n",
       "      <td>0.597617</td>\n",
       "      <td>0.581183</td>\n",
       "      <td>0.550549</td>\n",
       "      <td>0.528197</td>\n",
       "    </tr>\n",
       "    <tr>\n",
       "      <th>25488</th>\n",
       "      <td>0.535258</td>\n",
       "      <td>0.189464</td>\n",
       "      <td>0.607418</td>\n",
       "      <td>0.529348</td>\n",
       "      <td>0.489270</td>\n",
       "      <td>0.508477</td>\n",
       "    </tr>\n",
       "    <tr>\n",
       "      <th>25489</th>\n",
       "      <td>0.379591</td>\n",
       "      <td>0.341968</td>\n",
       "      <td>0.498873</td>\n",
       "      <td>0.474924</td>\n",
       "      <td>0.598680</td>\n",
       "      <td>0.440577</td>\n",
       "    </tr>\n",
       "    <tr>\n",
       "      <th>27886</th>\n",
       "      <td>0.306186</td>\n",
       "      <td>0.636027</td>\n",
       "      <td>0.869292</td>\n",
       "      <td>0.615501</td>\n",
       "      <td>0.685502</td>\n",
       "      <td>0.566686</td>\n",
       "    </tr>\n",
       "    <tr>\n",
       "      <th>28658</th>\n",
       "      <td>0.399496</td>\n",
       "      <td>0.289242</td>\n",
       "      <td>0.544151</td>\n",
       "      <td>0.489932</td>\n",
       "      <td>0.461225</td>\n",
       "      <td>0.460307</td>\n",
       "    </tr>\n",
       "    <tr>\n",
       "      <th>28871</th>\n",
       "      <td>NaN</td>\n",
       "      <td>NaN</td>\n",
       "      <td>0.392264</td>\n",
       "      <td>0.440434</td>\n",
       "      <td>0.594721</td>\n",
       "      <td>NaN</td>\n",
       "    </tr>\n",
       "  </tbody>\n",
       "</table>\n",
       "</div>"
      ],
      "text/plain": [
       "            Feature: Accuracy  Feature: Check-in  Feature: Cleanliness  Feature: Communication  Feature: Location  Feature: Value\n",
       "Listing ID                                                                                                                       \n",
       "2818                 0.393159           0.275906              0.499541                0.475244           0.433244        0.415081\n",
       "3209                 0.306186                NaN              0.925092                0.868943           0.448174        0.180579\n",
       "20168                0.458665           0.271084              0.494754                0.344864           0.498637        0.430184\n",
       "20818                     NaN           0.220217                   NaN                     NaN           0.668266             NaN\n",
       "23651                0.527225           0.565900              0.597617                0.581183           0.550549        0.528197\n",
       "25488                0.535258           0.189464              0.607418                0.529348           0.489270        0.508477\n",
       "25489                0.379591           0.341968              0.498873                0.474924           0.598680        0.440577\n",
       "27886                0.306186           0.636027              0.869292                0.615501           0.685502        0.566686\n",
       "28658                0.399496           0.289242              0.544151                0.489932           0.461225        0.460307\n",
       "28871                     NaN                NaN              0.392264                0.440434           0.594721             NaN"
      ]
     },
     "execution_count": 53,
     "metadata": {},
     "output_type": "execute_result"
    }
   ],
   "source": [
    "# We calculate the compound sentiment of the features for each listing. We use the condition 'is different from 0'\n",
    "# because we use value 0 when the feature is not mentioned and we dont want the pipeline to be confused as sentiment.\n",
    "# For features that are not mentioned at all for the listing a value NaN will appear\n",
    "\n",
    "acc1=pipe[pipe['Feature: Accuracy']!=0].groupby('Review ID').mean()[['Listing ID','Feature: Accuracy']]\n",
    "acc=acc1.groupby('Listing ID').mean()\n",
    "\n",
    "chec1=pipe[pipe['Feature: Check-in']!=0].groupby('Review ID').mean()[['Listing ID','Feature: Check-inFeature: Check-in']]\n",
    "chec=chec1.groupby('Listing ID').mean()\n",
    "\n",
    "cle1=pipe[pipe['Feature: Cleanliness']!=0].groupby('Review ID').mean()[['Listing ID','Feature: Cleanliness']]\n",
    "cle=cle1.groupby('Listing ID').mean()\n",
    "\n",
    "com1=pipe[pipe['Feature: Communication']!=0].groupby('Review ID').mean()[['Listing ID','Feature: Communication']]\n",
    "com=com1.groupby('Listing ID').mean()\n",
    "\n",
    "loc1=pipe[pipe['Feature: Location']!=0].groupby('Review ID').mean()[['Listing ID','Feature: Location']]\n",
    "loc=loc1.groupby('Listing ID').mean()\n",
    "\n",
    "val1=pipe[pipe['Feature: Value']!=0].groupby('Review ID').mean()[['Listing ID','Feature: Value']]\n",
    "val=val1.groupby('Listing ID').mean()\n",
    "\n",
    "frames=[acc,chec,cle,com,loc,val]\n",
    "result=pd.concat(frames,axis=1)\n",
    "result[:10]"
   ]
  },
  {
   "cell_type": "code",
   "execution_count": 69,
   "metadata": {
    "collapsed": false
   },
   "outputs": [],
   "source": [
    "hmm=pipe['Listing ID'].value_counts().sum"
   ]
  },
  {
   "cell_type": "code",
   "execution_count": 148,
   "metadata": {
    "collapsed": false,
    "scrolled": true
   },
   "outputs": [
    {
     "data": {
      "text/html": [
       "<div>\n",
       "<table border=\"1\" class=\"dataframe\">\n",
       "  <thead>\n",
       "    <tr style=\"text-align: right;\">\n",
       "      <th></th>\n",
       "      <th>Nr of listings mentioned</th>\n",
       "      <th>Percentage</th>\n",
       "    </tr>\n",
       "  </thead>\n",
       "  <tbody>\n",
       "    <tr>\n",
       "      <th>Accuracy</th>\n",
       "      <td>1689</td>\n",
       "      <td>0.72</td>\n",
       "    </tr>\n",
       "    <tr>\n",
       "      <th>Check-in</th>\n",
       "      <td>1516</td>\n",
       "      <td>0.65</td>\n",
       "    </tr>\n",
       "    <tr>\n",
       "      <th>Cleanliness</th>\n",
       "      <td>1982</td>\n",
       "      <td>0.85</td>\n",
       "    </tr>\n",
       "    <tr>\n",
       "      <th>Communication</th>\n",
       "      <td>1970</td>\n",
       "      <td>0.84</td>\n",
       "    </tr>\n",
       "    <tr>\n",
       "      <th>Location</th>\n",
       "      <td>2298</td>\n",
       "      <td>0.98</td>\n",
       "    </tr>\n",
       "    <tr>\n",
       "      <th>Value</th>\n",
       "      <td>2081</td>\n",
       "      <td>0.89</td>\n",
       "    </tr>\n",
       "  </tbody>\n",
       "</table>\n",
       "</div>"
      ],
      "text/plain": [
       "               Nr of listings mentioned  Percentage\n",
       "Accuracy                           1689        0.72\n",
       "Check-in                           1516        0.65\n",
       "Cleanliness                        1982        0.85\n",
       "Communication                      1970        0.84\n",
       "Location                           2298        0.98\n",
       "Value                              2081        0.89"
      ]
     },
     "execution_count": 148,
     "metadata": {},
     "output_type": "execute_result"
    }
   ],
   "source": [
    "# Calculation for finding out which feature is most mentioned in the reviews of the listing.\n",
    "# From the total listing we substract the number of listings where the feature is not mentioned at all in the reviews \n",
    "\n",
    "a=total-result['Feature: Accuracy'].isnull().sum()\n",
    "b=total-result['Feature: Check-in'].isnull().sum()\n",
    "c=total-result['Feature: Cleanliness'].isnull().sum()\n",
    "d=total-result['Feature: Communication'].isnull().sum()\n",
    "e=total-result['Feature: Location'].isnull().sum()\n",
    "f=total-result['Feature: Value'].isnull().sum()\n",
    "#print 'Accuracy Check-in Cleanliness Communication Location Value'\n",
    "#print a,b,c,d,e,f\n",
    "df = [{'Nr of listings mentioned' : a, 'Percentage' : (a/total).round(2)},\n",
    "      { 'Nr of listings mentioned': b, 'Percentage':(b/total).round(2)},\n",
    "      { 'Nr of listings mentioned' : c, 'Percentage':(c/total).round(2)},\n",
    "      { 'Nr of listings mentioned' : d, 'Percentage':(d/total).round(2)},\n",
    "      { 'Nr of listings mentioned':e, 'Percentage':(e/total).round(2)},\n",
    "      {'Nr of listings mentioned': f, 'Percentage':(f/total).round(2)}]\n",
    "final=pd.DataFrame(df, index=['Accuracy', 'Check-in','Cleanliness','Communication','Location','Value'])\n",
    "final"
   ]
  },
  {
   "cell_type": "code",
   "execution_count": 159,
   "metadata": {
    "collapsed": false
   },
   "outputs": [
    {
     "data": {
      "text/plain": [
       "<matplotlib.axes._subplots.AxesSubplot at 0xaf642d0>"
      ]
     },
     "execution_count": 159,
     "metadata": {},
     "output_type": "execute_result"
    },
    {
     "data": {
      "image/png": "[encoded data removed]",
      "text/plain": [
       "<matplotlib.figure.Figure at 0xaec0430>"
      ]
     },
     "metadata": {},
     "output_type": "display_data"
    }
   ],
   "source": [
    "# Visualization of which feature is most mentioned in the listings\n",
    "\n",
    "final['Percentage'].plot(kind='bar',figsize=(10, 4))"
   ]
  },
  {
   "cell_type": "code",
   "execution_count": 160,
   "metadata": {
    "collapsed": true
   },
   "outputs": [],
   "source": [
    "# Get the table with the compound sentiment scores for listings in a csv file\n",
    "\n",
    "result.to_csv(path_or_buf='C:/Python27/Features_sentiment.csv')"
   ]
  },
  {
   "cell_type": "code",
   "execution_count": 172,
   "metadata": {
    "collapsed": false
   },
   "outputs": [],
   "source": [
    "airbnb= pd.read_csv('C:/Python27/AirbnbRating.csv')[:10]\n",
    "airbnb[['Id','Accuracy','Check-in','Cleanliness','Communication','Location','Value']].dropna().to_csv(path_or_buf='C:/Python27/Features_airbnb.csv')"
   ]
  },
  {
   "cell_type": "code",
   "execution_count": null,
   "metadata": {
    "collapsed": true
   },
   "outputs": [],
   "source": []
  }
 ],
 "metadata": {
  "kernelspec": {
   "display_name": "Python 2",
   "language": "python",
   "name": "python2"
  },
  "language_info": {
   "codemirror_mode": {
    "name": "ipython",
    "version": 2
   },
   "file_extension": ".py",
   "mimetype": "text/x-python",
   "name": "python",
   "nbconvert_exporter": "python",
   "pygments_lexer": "ipython2",
   "version": "2.7.11"
  }
 },
 "nbformat": 4,
 "nbformat_minor": 0
}
